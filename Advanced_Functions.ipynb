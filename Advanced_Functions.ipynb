{
  "nbformat": 4,
  "nbformat_minor": 0,
  "metadata": {
    "colab": {
      "name": "Advanced_Functions.ipynb",
      "provenance": [],
      "collapsed_sections": []
    },
    "kernelspec": {
      "name": "python3",
      "display_name": "Python 3"
    },
    "language_info": {
      "name": "python"
    }
  },
  "cells": [
    {
      "cell_type": "code",
      "metadata": {
        "id": "zu0UQrjs4esF"
      },
      "source": [
        "def square(y):\n",
        "  return y*y"
      ],
      "execution_count": 1,
      "outputs": []
    },
    {
      "cell_type": "code",
      "metadata": {
        "colab": {
          "base_uri": "https://localhost:8080/"
        },
        "id": "N0z0qiwi5dMd",
        "outputId": "9f784d8b-8490-4927-88e5-5bd71d779270"
      },
      "source": [
        "square(2)"
      ],
      "execution_count": 2,
      "outputs": [
        {
          "output_type": "execute_result",
          "data": {
            "text/plain": [
              "4"
            ]
          },
          "metadata": {
            "tags": []
          },
          "execution_count": 2
        }
      ]
    },
    {
      "cell_type": "code",
      "metadata": {
        "id": "FNbDNlWg5jmS"
      },
      "source": [
        "#Anonymous function: This function will not have a name!\n",
        "#Lambda Function \n",
        "#Syntax: Lambda arguments: operation"
      ],
      "execution_count": 4,
      "outputs": []
    },
    {
      "cell_type": "code",
      "metadata": {
        "colab": {
          "base_uri": "https://localhost:8080/"
        },
        "id": "JemWCn1S58yg",
        "outputId": "1e6280d5-ac81-4bc3-b40d-bd8e6fd87888"
      },
      "source": [
        "s = lambda y: y*y\n",
        "print(s(2))"
      ],
      "execution_count": 6,
      "outputs": [
        {
          "output_type": "stream",
          "text": [
            "4\n"
          ],
          "name": "stdout"
        }
      ]
    },
    {
      "cell_type": "code",
      "metadata": {
        "id": "FetEd2Df6Gpt"
      },
      "source": [
        "#Make use of lambda function and return the sum of 3 numbers "
      ],
      "execution_count": null,
      "outputs": []
    },
    {
      "cell_type": "code",
      "metadata": {
        "colab": {
          "base_uri": "https://localhost:8080/"
        },
        "id": "xBY2sioK7Txj",
        "outputId": "91d11bfb-45ff-4d3b-ac94-0fd064a6ffe3"
      },
      "source": [
        "num = [1,2,3,4,5,6,7,8,9,10]\n",
        "res = []\n",
        "for i in num: \n",
        "  res.append(i**2)\n",
        "print(res)"
      ],
      "execution_count": 7,
      "outputs": [
        {
          "output_type": "stream",
          "text": [
            "[1, 4, 9, 16, 25, 36, 49, 64, 81, 100]\n"
          ],
          "name": "stdout"
        }
      ]
    },
    {
      "cell_type": "code",
      "metadata": {
        "id": "mY8zrYG38DMc"
      },
      "source": [
        "#MAP - Syntax map(Function, *iterables) --> map object\n",
        "\n",
        "It computes the operations of the function over the iterable"
      ],
      "execution_count": null,
      "outputs": []
    },
    {
      "cell_type": "code",
      "metadata": {
        "colab": {
          "base_uri": "https://localhost:8080/"
        },
        "id": "1VnLW3pu9Ka2",
        "outputId": "c1965e73-2777-4565-b7f7-7dc06e6f0ca9"
      },
      "source": [
        "map(lambda x: x**2,num)"
      ],
      "execution_count": 10,
      "outputs": [
        {
          "output_type": "execute_result",
          "data": {
            "text/plain": [
              "<map at 0x7f0a2772bd50>"
            ]
          },
          "metadata": {
            "tags": []
          },
          "execution_count": 10
        }
      ]
    },
    {
      "cell_type": "code",
      "metadata": {
        "colab": {
          "base_uri": "https://localhost:8080/"
        },
        "id": "eVOZ0UlJ7lgJ",
        "outputId": "f970344e-ade5-431a-c831-e8695d693608"
      },
      "source": [
        "#Map \n",
        "num = [1,2,3,4,5,6,7,8,9,10]\n",
        "square_lst = list(map(lambda x: x**2,num))\n",
        "square_lst"
      ],
      "execution_count": 9,
      "outputs": [
        {
          "output_type": "execute_result",
          "data": {
            "text/plain": [
              "[1, 4, 9, 16, 25, 36, 49, 64, 81, 100]"
            ]
          },
          "metadata": {
            "tags": []
          },
          "execution_count": 9
        }
      ]
    },
    {
      "cell_type": "code",
      "metadata": {
        "colab": {
          "base_uri": "https://localhost:8080/"
        },
        "id": "bRgZdf0L7_2Y",
        "outputId": "f3e08cba-e2d5-42c4-b265-aa244618dcb7"
      },
      "source": [
        "Myclassstudens  = ['Vahini','Abdul','Tajmul']\n",
        "upper_case = list(map(str.upper,Myclassstudens))\n",
        "upper_case"
      ],
      "execution_count": 16,
      "outputs": [
        {
          "output_type": "execute_result",
          "data": {
            "text/plain": [
              "['VAHINI', 'ABDUL', 'TAJMUL']"
            ]
          },
          "metadata": {
            "tags": []
          },
          "execution_count": 16
        }
      ]
    },
    {
      "cell_type": "code",
      "metadata": {
        "colab": {
          "base_uri": "https://localhost:8080/",
          "height": 35
        },
        "id": "UANqk_f19_ld",
        "outputId": "a2f3f9ee-b2ba-4cfd-c126-bbab4d9d6a65"
      },
      "source": [
        "a = \"Abdul\"\n",
        "a.upper()"
      ],
      "execution_count": 13,
      "outputs": [
        {
          "output_type": "execute_result",
          "data": {
            "application/vnd.google.colaboratory.intrinsic+json": {
              "type": "string"
            },
            "text/plain": [
              "'ABDUL'"
            ]
          },
          "metadata": {
            "tags": []
          },
          "execution_count": 13
        }
      ]
    },
    {
      "cell_type": "code",
      "metadata": {
        "id": "pT2rKjnK8uGi"
      },
      "source": [
        "float_nums = [4.77,8.99,2.33,10.99,6,33]\n",
        "#use map and convert this list into a list of integers\n",
        "round_numbers = list(map(int, float_nums))"
      ],
      "execution_count": 19,
      "outputs": []
    },
    {
      "cell_type": "code",
      "metadata": {
        "colab": {
          "base_uri": "https://localhost:8080/"
        },
        "id": "gqJqUlC19svf",
        "outputId": "c1eeff1e-a202-44d6-b1eb-503c1b2dce5f"
      },
      "source": [
        "round_numbers"
      ],
      "execution_count": 20,
      "outputs": [
        {
          "output_type": "execute_result",
          "data": {
            "text/plain": [
              "[4, 8, 2, 10, 6, 33]"
            ]
          },
          "metadata": {
            "tags": []
          },
          "execution_count": 20
        }
      ]
    },
    {
      "cell_type": "code",
      "metadata": {
        "id": "M4H6Szqu9s39"
      },
      "source": [
        "#Make use of Map and Lambda to generate the same pattern\n",
        "name = ['jack','sparrow','harry','potter']\n",
        "index = [1,2,3,4]\n",
        "\n",
        "OP: [('jack',1),('sparrow',2),('harry',3),('potter',4)]"
      ],
      "execution_count": null,
      "outputs": []
    },
    {
      "cell_type": "code",
      "metadata": {
        "colab": {
          "base_uri": "https://localhost:8080/"
        },
        "id": "LF7-oARP9s7W",
        "outputId": "b52a3c61-739d-4bdf-afda-611803cba7a8"
      },
      "source": [
        "name = ['jack','sparrow','harry','potter']\n",
        "index = [1,2,3,4]\n",
        "list(map(lambda i,j: (i,j),name,index))"
      ],
      "execution_count": 22,
      "outputs": [
        {
          "output_type": "execute_result",
          "data": {
            "text/plain": [
              "[('jack', 1), ('sparrow', 2), ('harry', 3), ('potter', 4)]"
            ]
          },
          "metadata": {
            "tags": []
          },
          "execution_count": 22
        }
      ]
    },
    {
      "cell_type": "code",
      "metadata": {
        "colab": {
          "base_uri": "https://localhost:8080/"
        },
        "id": "49RYatg_C5kd",
        "outputId": "736cb65a-e69c-4ca1-a32d-53ec70cbcb0e"
      },
      "source": [
        "#ZIP \n",
        "a = [1,2,3,4,5]\n",
        "b = [6,7,8,9,10]\n",
        "c = []\n",
        "for i,j in zip(a,b):\n",
        "  c.append(i*j)\n",
        "print(c)"
      ],
      "execution_count": 37,
      "outputs": [
        {
          "output_type": "stream",
          "text": [
            "[6, 14, 24, 36, 50]\n"
          ],
          "name": "stdout"
        }
      ]
    },
    {
      "cell_type": "code",
      "metadata": {
        "colab": {
          "base_uri": "https://localhost:8080/"
        },
        "id": "2Z7YB47-C5of",
        "outputId": "aae1c2c3-f0a5-4943-c096-6635aab1fbae"
      },
      "source": [
        "a = ['a','b','c','d']\n",
        "for indx,a in enumerate(a):\n",
        "  print(\"Index\",indx)\n",
        "  print(\"Element\",a)"
      ],
      "execution_count": 40,
      "outputs": [
        {
          "output_type": "stream",
          "text": [
            "Index 0\n",
            "Element a\n",
            "Index 1\n",
            "Element b\n",
            "Index 2\n",
            "Element c\n",
            "Index 3\n",
            "Element d\n"
          ],
          "name": "stdout"
        }
      ]
    },
    {
      "cell_type": "code",
      "metadata": {
        "colab": {
          "base_uri": "https://localhost:8080/"
        },
        "id": "sf5CFL1CC5tO",
        "outputId": "e6ff5793-eecb-468f-f679-f565684dc407"
      },
      "source": [
        "#List Comprehension\n",
        "list_nos = [1,2,3,4,5,6,7]\n",
        "res = []\n",
        "for i in list_nos: \n",
        "  res.append(i*i)\n",
        "print(res)"
      ],
      "execution_count": 42,
      "outputs": [
        {
          "output_type": "stream",
          "text": [
            "[1, 4, 9, 16, 25, 36, 49]\n"
          ],
          "name": "stdout"
        }
      ]
    },
    {
      "cell_type": "code",
      "metadata": {
        "id": "2IgQPVKMC5yN"
      },
      "source": [
        "lst_squared = [i*i for i in list_nos]"
      ],
      "execution_count": 44,
      "outputs": []
    },
    {
      "cell_type": "code",
      "metadata": {
        "colab": {
          "base_uri": "https://localhost:8080/"
        },
        "id": "Ejq7NAulC53-",
        "outputId": "97d44739-398c-41eb-c8f4-d405228f87ab"
      },
      "source": [
        "lst_squared"
      ],
      "execution_count": 45,
      "outputs": [
        {
          "output_type": "execute_result",
          "data": {
            "text/plain": [
              "[1, 4, 9, 16, 25, 36, 49]"
            ]
          },
          "metadata": {
            "tags": []
          },
          "execution_count": 45
        }
      ]
    },
    {
      "cell_type": "code",
      "metadata": {
        "id": "56vS3C4p8uN9"
      },
      "source": [
        "#Write a code using list comprehension to find the 3times each number from the list \n",
        "#return type is also a list\n",
        "list_nos = [1,2,3,4,5,6,7]\n",
        "O/P: [2,6,9,12,15,18,21]"
      ],
      "execution_count": null,
      "outputs": []
    },
    {
      "cell_type": "code",
      "metadata": {
        "id": "R_MmYCV7NUQF"
      },
      "source": [
        "Words = ['inceptz','card','btch13','pythn','class']\n",
        "vowels = ['a','e','i','o','u']\n",
        "\n",
        "#Write a simple code to return a list of words which contains vowels \n",
        "#Write it using simple for's and if's \n",
        "\n",
        "#List comprehension is the shorted form return and iterate over a list in a single \n",
        "#more than one for loops inside list comprehension \n",
        "#Suggestion: avoid or limit with 2 loops as probelems go complex! \n",
        "#return type of List comprehension is one list! \n"
      ],
      "execution_count": 46,
      "outputs": []
    },
    {
      "cell_type": "code",
      "metadata": {
        "colab": {
          "base_uri": "https://localhost:8080/"
        },
        "id": "EUGawXCOPMyY",
        "outputId": "4ede8ec3-c6dd-4192-e6f8-07573054a09e"
      },
      "source": [
        "res = []\n",
        "for i in Words:\n",
        "  print(i)\n",
        "  for j in i:\n",
        "    if(j in vowels):\n",
        "      res.append(i) \n",
        "  #break\n",
        "print(res)"
      ],
      "execution_count": 59,
      "outputs": [
        {
          "output_type": "stream",
          "text": [
            "inceptz\n",
            "inceptz\n",
            "card\n",
            "class\n",
            "['inceptz', 'inceptz', 'card', 'class']\n"
          ],
          "name": "stdout"
        }
      ]
    },
    {
      "cell_type": "code",
      "metadata": {
        "colab": {
          "base_uri": "https://localhost:8080/"
        },
        "id": "nwEGF8xgPe6C",
        "outputId": "8af81850-8355-425c-8e73-58b1a0b844b5"
      },
      "source": [
        "res"
      ],
      "execution_count": 48,
      "outputs": [
        {
          "output_type": "execute_result",
          "data": {
            "text/plain": [
              "['inceptz', 'card', 'class']"
            ]
          },
          "metadata": {
            "tags": []
          },
          "execution_count": 48
        }
      ]
    },
    {
      "cell_type": "code",
      "metadata": {
        "id": "uDvy6XH-VHLK"
      },
      "source": [
        "odd = []\n",
        "even = []\n",
        "[odd.append(\"Even\") if i%2 == 0 else even.append(\"Odd\") for i in range(0,20)]\n",
        "#Return Type 1. One List"
      ],
      "execution_count": null,
      "outputs": []
    },
    {
      "cell_type": "code",
      "metadata": {
        "id": "zRsBDnj1Vw7F"
      },
      "source": [
        "odd"
      ],
      "execution_count": null,
      "outputs": []
    },
    {
      "cell_type": "code",
      "metadata": {
        "colab": {
          "base_uri": "https://localhost:8080/"
        },
        "id": "RJbR7DViVp81",
        "outputId": "48c07192-fe22-412b-91a8-fbacd156da20"
      },
      "source": [
        "res"
      ],
      "execution_count": 69,
      "outputs": [
        {
          "output_type": "execute_result",
          "data": {
            "text/plain": [
              "['Even',\n",
              " 'Odd',\n",
              " 'Even',\n",
              " 'Odd',\n",
              " 'Even',\n",
              " 'Odd',\n",
              " 'Even',\n",
              " 'Odd',\n",
              " 'Even',\n",
              " 'Odd',\n",
              " 'Even',\n",
              " 'Odd',\n",
              " 'Even',\n",
              " 'Odd',\n",
              " 'Even',\n",
              " 'Odd',\n",
              " 'Even',\n",
              " 'Odd',\n",
              " 'Even',\n",
              " 'Odd']"
            ]
          },
          "metadata": {
            "tags": []
          },
          "execution_count": 69
        }
      ]
    },
    {
      "cell_type": "code",
      "metadata": {
        "colab": {
          "base_uri": "https://localhost:8080/",
          "height": 130
        },
        "id": "qVWZ7I73PgUH",
        "outputId": "31334a27-83ba-41b7-a906-5e82179a3632"
      },
      "source": [
        "res =[]\n",
        "hal = [res.append(i) for i in Words for j in i if j in vowels ]"
      ],
      "execution_count": 63,
      "outputs": [
        {
          "output_type": "error",
          "ename": "SyntaxError",
          "evalue": "ignored",
          "traceback": [
            "\u001b[0;36m  File \u001b[0;32m\"<ipython-input-63-5503393b696a>\"\u001b[0;36m, line \u001b[0;32m2\u001b[0m\n\u001b[0;31m    hal = [i for i in Words for j in i if j in vowels else i = 0]\u001b[0m\n\u001b[0m                                                         ^\u001b[0m\n\u001b[0;31mSyntaxError\u001b[0m\u001b[0;31m:\u001b[0m invalid syntax\n"
          ]
        }
      ]
    },
    {
      "cell_type": "code",
      "metadata": {
        "colab": {
          "base_uri": "https://localhost:8080/"
        },
        "id": "KjGZHTCfU2Id",
        "outputId": "215736c7-d6f5-461c-b604-786183b2a2e3"
      },
      "source": [
        "res"
      ],
      "execution_count": 62,
      "outputs": [
        {
          "output_type": "execute_result",
          "data": {
            "text/plain": [
              "['inceptz', 'inceptz', 'card', 'class']"
            ]
          },
          "metadata": {
            "tags": []
          },
          "execution_count": 62
        }
      ]
    },
    {
      "cell_type": "code",
      "metadata": {
        "id": "yCUxCXPtRC4H"
      },
      "source": [
        "Set comprehensions \n",
        "dict comprehensions\n",
        "No Tuple comprehensions"
      ],
      "execution_count": null,
      "outputs": []
    },
    {
      "cell_type": "code",
      "metadata": {
        "colab": {
          "base_uri": "https://localhost:8080/"
        },
        "id": "DeeAPqFSPz9H",
        "outputId": "e5771879-58fc-4aee-d649-6cfe56b8a98b"
      },
      "source": [
        "hal = [[[1,2]]]\n",
        "[l for i in hal for k in i for l in k]"
      ],
      "execution_count": 60,
      "outputs": [
        {
          "output_type": "execute_result",
          "data": {
            "text/plain": [
              "[1, 2]"
            ]
          },
          "metadata": {
            "tags": []
          },
          "execution_count": 60
        }
      ]
    },
    {
      "cell_type": "code",
      "metadata": {
        "id": "KYK5aYYMUOqV"
      },
      "source": [
        ""
      ],
      "execution_count": null,
      "outputs": []
    }
  ]
}