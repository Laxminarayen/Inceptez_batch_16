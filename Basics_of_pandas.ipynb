{
  "nbformat": 4,
  "nbformat_minor": 0,
  "metadata": {
    "colab": {
      "name": "Basics_of_pandas.ipynb",
      "provenance": [],
      "collapsed_sections": []
    },
    "kernelspec": {
      "name": "python3",
      "display_name": "Python 3"
    },
    "language_info": {
      "name": "python"
    }
  },
  "cells": [
    {
      "cell_type": "code",
      "metadata": {
        "colab": {
          "base_uri": "https://localhost:8080/"
        },
        "id": "sVtQpY_O-CQR",
        "outputId": "8a085378-382f-45e8-c74d-404abd5e18c8"
      },
      "source": [
        "from google.colab import drive \n",
        "drive.mount('/drive')"
      ],
      "execution_count": 4,
      "outputs": [
        {
          "output_type": "stream",
          "text": [
            "Mounted at /drive\n"
          ],
          "name": "stdout"
        }
      ]
    },
    {
      "cell_type": "code",
      "metadata": {
        "id": "jsovFcdS-wjp"
      },
      "source": [
        "#python Pandas\n",
        "1. Dataframe \n",
        "2. SQL kind of stuff\n",
        "3. Flexibility of Handling\n",
        "#Pandas is package which is the most important tool for a data scientist. \"Panel Data\"\n",
        "#Data over time - Exonometrics\n",
        "#Helps calculate the Statistics of the data easily \n",
        "#In background it runs numpy \n",
        "#For VIsualizations makes use of Matplotlib"
      ],
      "execution_count": null,
      "outputs": []
    },
    {
      "cell_type": "code",
      "metadata": {
        "id": "tmPCRYW9-wmi"
      },
      "source": [
        "#Pandas first steps \n",
        "!conda install pandas\n",
        "!pip install pandas"
      ],
      "execution_count": null,
      "outputs": []
    },
    {
      "cell_type": "code",
      "metadata": {
        "id": "-ogt4YzD-wpm"
      },
      "source": [
        "import pandas\n",
        "import pandas as pd"
      ],
      "execution_count": 11,
      "outputs": []
    },
    {
      "cell_type": "code",
      "metadata": {
        "id": "WYB4AUAK-wsW"
      },
      "source": [
        "#DataFrame second core component of Pandas Series\n",
        "data = {\n",
        "    'Kholi': [34,35,40,60],\n",
        "    'Dhoni':[50,60,24,14]\n",
        "}"
      ],
      "execution_count": 12,
      "outputs": []
    },
    {
      "cell_type": "code",
      "metadata": {
        "colab": {
          "base_uri": "https://localhost:8080/",
          "height": 173
        },
        "id": "SYP0KQuw-wvo",
        "outputId": "f01221e1-74dd-4efc-81d0-c6949a056921"
      },
      "source": [
        "cricket_scores = pd.DataFrame(data)\n",
        "cricket_scores"
      ],
      "execution_count": 13,
      "outputs": [
        {
          "output_type": "execute_result",
          "data": {
            "text/html": [
              "<div>\n",
              "<style scoped>\n",
              "    .dataframe tbody tr th:only-of-type {\n",
              "        vertical-align: middle;\n",
              "    }\n",
              "\n",
              "    .dataframe tbody tr th {\n",
              "        vertical-align: top;\n",
              "    }\n",
              "\n",
              "    .dataframe thead th {\n",
              "        text-align: right;\n",
              "    }\n",
              "</style>\n",
              "<table border=\"1\" class=\"dataframe\">\n",
              "  <thead>\n",
              "    <tr style=\"text-align: right;\">\n",
              "      <th></th>\n",
              "      <th>Kholi</th>\n",
              "      <th>Dhoni</th>\n",
              "    </tr>\n",
              "  </thead>\n",
              "  <tbody>\n",
              "    <tr>\n",
              "      <th>0</th>\n",
              "      <td>34</td>\n",
              "      <td>50</td>\n",
              "    </tr>\n",
              "    <tr>\n",
              "      <th>1</th>\n",
              "      <td>35</td>\n",
              "      <td>60</td>\n",
              "    </tr>\n",
              "    <tr>\n",
              "      <th>2</th>\n",
              "      <td>40</td>\n",
              "      <td>24</td>\n",
              "    </tr>\n",
              "    <tr>\n",
              "      <th>3</th>\n",
              "      <td>60</td>\n",
              "      <td>14</td>\n",
              "    </tr>\n",
              "  </tbody>\n",
              "</table>\n",
              "</div>"
            ],
            "text/plain": [
              "   Kholi  Dhoni\n",
              "0     34     50\n",
              "1     35     60\n",
              "2     40     24\n",
              "3     60     14"
            ]
          },
          "metadata": {
            "tags": []
          },
          "execution_count": 13
        }
      ]
    },
    {
      "cell_type": "code",
      "metadata": {
        "colab": {
          "base_uri": "https://localhost:8080/"
        },
        "id": "Wi8h_vAm-wyz",
        "outputId": "2633a463-017c-4a88-fff7-1affbdfd25ee"
      },
      "source": [
        "cricket_scores['Dhoni']"
      ],
      "execution_count": 17,
      "outputs": [
        {
          "output_type": "execute_result",
          "data": {
            "text/plain": [
              "0    50\n",
              "1    60\n",
              "2    24\n",
              "3    14\n",
              "Name: Dhoni, dtype: int64"
            ]
          },
          "metadata": {
            "tags": []
          },
          "execution_count": 17
        }
      ]
    },
    {
      "cell_type": "code",
      "metadata": {
        "id": "P9YI3SnJ-w12"
      },
      "source": [
        "1. DF - colums: orange, apples Values: 5rows "
      ],
      "execution_count": null,
      "outputs": []
    },
    {
      "cell_type": "code",
      "metadata": {
        "id": "P-T3ggxR-w5P"
      },
      "source": [
        "data = {\n",
        "    'Oranges':[45,56,40,59,60,70,75,80,60,54],\n",
        "    'Mangoes':[45,56,40,59,60,70,70,62,62,53]\n",
        "}"
      ],
      "execution_count": 60,
      "outputs": []
    },
    {
      "cell_type": "code",
      "metadata": {
        "id": "J4XTiIJL-w8Z"
      },
      "source": [
        "data = pd.DataFrame(data,index = ['Jan','Feb','Mar','April','May','June','Jul'])\n",
        "'''\n",
        "---------------------------------------------------------------------------\n",
        "ValueError                                Traceback (most recent call last)\n",
        "/usr/local/lib/python3.7/dist-packages/pandas/core/internals/managers.py in create_block_manager_from_arrays(arrays, names, axes)\n",
        "   1692         blocks = form_blocks(arrays, names, axes)\n",
        "-> 1693         mgr = BlockManager(blocks, axes)\n",
        "   1694         mgr._consolidate_inplace()\n",
        "\n",
        "6 frames\n",
        "ValueError: Shape of passed values is (10, 2), indices imply (7, 2)\n",
        "\n",
        "During handling of the above exception, another exception occurred:\n",
        "\n",
        "ValueError                                Traceback (most recent call last)\n",
        "/usr/local/lib/python3.7/dist-packages/pandas/core/internals/managers.py in create_block_manager_from_arrays(arrays, names, axes)\n",
        "   1695         return mgr\n",
        "   1696     except ValueError as e:\n",
        "-> 1697         raise construction_error(len(arrays), arrays[0].shape, axes, e)\n",
        "   1698 \n",
        "   1699 \n",
        "\n",
        "ValueError: Shape of passed values is (10, 2), indices imply (7, 2)\n",
        "'''"
      ],
      "execution_count": null,
      "outputs": []
    },
    {
      "cell_type": "code",
      "metadata": {
        "id": "Strag_FU-w_i"
      },
      "source": [
        "data = pd.DataFrame(data,index = ['Jan','Feb','Mar','April','May','June','Jul','Aug','Sep','Oct'])"
      ],
      "execution_count": 61,
      "outputs": []
    },
    {
      "cell_type": "code",
      "metadata": {
        "colab": {
          "base_uri": "https://localhost:8080/",
          "height": 359
        },
        "id": "Sh81nmYe-xCj",
        "outputId": "4e28722f-b5cf-46d7-ebf5-b3bf4e5c1435"
      },
      "source": [
        "data"
      ],
      "execution_count": 62,
      "outputs": [
        {
          "output_type": "execute_result",
          "data": {
            "text/html": [
              "<div>\n",
              "<style scoped>\n",
              "    .dataframe tbody tr th:only-of-type {\n",
              "        vertical-align: middle;\n",
              "    }\n",
              "\n",
              "    .dataframe tbody tr th {\n",
              "        vertical-align: top;\n",
              "    }\n",
              "\n",
              "    .dataframe thead th {\n",
              "        text-align: right;\n",
              "    }\n",
              "</style>\n",
              "<table border=\"1\" class=\"dataframe\">\n",
              "  <thead>\n",
              "    <tr style=\"text-align: right;\">\n",
              "      <th></th>\n",
              "      <th>Oranges</th>\n",
              "      <th>Mangoes</th>\n",
              "    </tr>\n",
              "  </thead>\n",
              "  <tbody>\n",
              "    <tr>\n",
              "      <th>Jan</th>\n",
              "      <td>45</td>\n",
              "      <td>45</td>\n",
              "    </tr>\n",
              "    <tr>\n",
              "      <th>Feb</th>\n",
              "      <td>56</td>\n",
              "      <td>56</td>\n",
              "    </tr>\n",
              "    <tr>\n",
              "      <th>Mar</th>\n",
              "      <td>40</td>\n",
              "      <td>40</td>\n",
              "    </tr>\n",
              "    <tr>\n",
              "      <th>April</th>\n",
              "      <td>59</td>\n",
              "      <td>59</td>\n",
              "    </tr>\n",
              "    <tr>\n",
              "      <th>May</th>\n",
              "      <td>60</td>\n",
              "      <td>60</td>\n",
              "    </tr>\n",
              "    <tr>\n",
              "      <th>June</th>\n",
              "      <td>70</td>\n",
              "      <td>70</td>\n",
              "    </tr>\n",
              "    <tr>\n",
              "      <th>Jul</th>\n",
              "      <td>75</td>\n",
              "      <td>70</td>\n",
              "    </tr>\n",
              "    <tr>\n",
              "      <th>Aug</th>\n",
              "      <td>80</td>\n",
              "      <td>62</td>\n",
              "    </tr>\n",
              "    <tr>\n",
              "      <th>Sep</th>\n",
              "      <td>60</td>\n",
              "      <td>62</td>\n",
              "    </tr>\n",
              "    <tr>\n",
              "      <th>Oct</th>\n",
              "      <td>54</td>\n",
              "      <td>53</td>\n",
              "    </tr>\n",
              "  </tbody>\n",
              "</table>\n",
              "</div>"
            ],
            "text/plain": [
              "       Oranges  Mangoes\n",
              "Jan         45       45\n",
              "Feb         56       56\n",
              "Mar         40       40\n",
              "April       59       59\n",
              "May         60       60\n",
              "June        70       70\n",
              "Jul         75       70\n",
              "Aug         80       62\n",
              "Sep         60       62\n",
              "Oct         54       53"
            ]
          },
          "metadata": {
            "tags": []
          },
          "execution_count": 62
        }
      ]
    },
    {
      "cell_type": "code",
      "metadata": {
        "colab": {
          "base_uri": "https://localhost:8080/"
        },
        "id": "A7jatOGKJhL0",
        "outputId": "78ad5b34-4afa-4720-e826-f883618fc820"
      },
      "source": [
        "data.loc['Jan','Oranges']\n"
      ],
      "execution_count": 41,
      "outputs": [
        {
          "output_type": "execute_result",
          "data": {
            "text/plain": [
              "45"
            ]
          },
          "metadata": {
            "tags": []
          },
          "execution_count": 41
        }
      ]
    },
    {
      "cell_type": "code",
      "metadata": {
        "colab": {
          "base_uri": "https://localhost:8080/",
          "height": 359
        },
        "id": "bJrTa_wt-xFt",
        "outputId": "aafcb8aa-d731-4506-a7b7-f7d53f38d67e"
      },
      "source": [
        "#loc - Label or name based accessing of the elements from the dataframe\n",
        "\n",
        "#data.loc['Jan','Oranges']\n",
        "\n",
        "data.loc[:,['Oranges','Mangoes']] \n",
        "\n",
        "Dataframe_name.loc[row_criteria,column_criteria]"
      ],
      "execution_count": 30,
      "outputs": [
        {
          "output_type": "execute_result",
          "data": {
            "text/html": [
              "<div>\n",
              "<style scoped>\n",
              "    .dataframe tbody tr th:only-of-type {\n",
              "        vertical-align: middle;\n",
              "    }\n",
              "\n",
              "    .dataframe tbody tr th {\n",
              "        vertical-align: top;\n",
              "    }\n",
              "\n",
              "    .dataframe thead th {\n",
              "        text-align: right;\n",
              "    }\n",
              "</style>\n",
              "<table border=\"1\" class=\"dataframe\">\n",
              "  <thead>\n",
              "    <tr style=\"text-align: right;\">\n",
              "      <th></th>\n",
              "      <th>Oranges</th>\n",
              "      <th>Mangoes</th>\n",
              "    </tr>\n",
              "  </thead>\n",
              "  <tbody>\n",
              "    <tr>\n",
              "      <th>Jan</th>\n",
              "      <td>45</td>\n",
              "      <td>45</td>\n",
              "    </tr>\n",
              "    <tr>\n",
              "      <th>Feb</th>\n",
              "      <td>56</td>\n",
              "      <td>56</td>\n",
              "    </tr>\n",
              "    <tr>\n",
              "      <th>Mar</th>\n",
              "      <td>40</td>\n",
              "      <td>40</td>\n",
              "    </tr>\n",
              "    <tr>\n",
              "      <th>April</th>\n",
              "      <td>59</td>\n",
              "      <td>59</td>\n",
              "    </tr>\n",
              "    <tr>\n",
              "      <th>May</th>\n",
              "      <td>60</td>\n",
              "      <td>60</td>\n",
              "    </tr>\n",
              "    <tr>\n",
              "      <th>June</th>\n",
              "      <td>70</td>\n",
              "      <td>70</td>\n",
              "    </tr>\n",
              "    <tr>\n",
              "      <th>Jul</th>\n",
              "      <td>75</td>\n",
              "      <td>70</td>\n",
              "    </tr>\n",
              "    <tr>\n",
              "      <th>Aug</th>\n",
              "      <td>80</td>\n",
              "      <td>62</td>\n",
              "    </tr>\n",
              "    <tr>\n",
              "      <th>Sep</th>\n",
              "      <td>60</td>\n",
              "      <td>62</td>\n",
              "    </tr>\n",
              "    <tr>\n",
              "      <th>Oct</th>\n",
              "      <td>54</td>\n",
              "      <td>53</td>\n",
              "    </tr>\n",
              "  </tbody>\n",
              "</table>\n",
              "</div>"
            ],
            "text/plain": [
              "       Oranges  Mangoes\n",
              "Jan         45       45\n",
              "Feb         56       56\n",
              "Mar         40       40\n",
              "April       59       59\n",
              "May         60       60\n",
              "June        70       70\n",
              "Jul         75       70\n",
              "Aug         80       62\n",
              "Sep         60       62\n",
              "Oct         54       53"
            ]
          },
          "metadata": {
            "tags": []
          },
          "execution_count": 30
        }
      ]
    },
    {
      "cell_type": "code",
      "metadata": {
        "colab": {
          "base_uri": "https://localhost:8080/",
          "height": 359
        },
        "id": "2s_73M4DJsdA",
        "outputId": "223ac737-9734-4473-ba44-7ef53fcd97e8"
      },
      "source": [
        "data[:]"
      ],
      "execution_count": 42,
      "outputs": [
        {
          "output_type": "execute_result",
          "data": {
            "text/html": [
              "<div>\n",
              "<style scoped>\n",
              "    .dataframe tbody tr th:only-of-type {\n",
              "        vertical-align: middle;\n",
              "    }\n",
              "\n",
              "    .dataframe tbody tr th {\n",
              "        vertical-align: top;\n",
              "    }\n",
              "\n",
              "    .dataframe thead th {\n",
              "        text-align: right;\n",
              "    }\n",
              "</style>\n",
              "<table border=\"1\" class=\"dataframe\">\n",
              "  <thead>\n",
              "    <tr style=\"text-align: right;\">\n",
              "      <th></th>\n",
              "      <th>Oranges</th>\n",
              "      <th>Mangoes</th>\n",
              "    </tr>\n",
              "  </thead>\n",
              "  <tbody>\n",
              "    <tr>\n",
              "      <th>Jan</th>\n",
              "      <td>45</td>\n",
              "      <td>45</td>\n",
              "    </tr>\n",
              "    <tr>\n",
              "      <th>Feb</th>\n",
              "      <td>56</td>\n",
              "      <td>56</td>\n",
              "    </tr>\n",
              "    <tr>\n",
              "      <th>Mar</th>\n",
              "      <td>40</td>\n",
              "      <td>40</td>\n",
              "    </tr>\n",
              "    <tr>\n",
              "      <th>April</th>\n",
              "      <td>59</td>\n",
              "      <td>59</td>\n",
              "    </tr>\n",
              "    <tr>\n",
              "      <th>May</th>\n",
              "      <td>60</td>\n",
              "      <td>60</td>\n",
              "    </tr>\n",
              "    <tr>\n",
              "      <th>June</th>\n",
              "      <td>70</td>\n",
              "      <td>70</td>\n",
              "    </tr>\n",
              "    <tr>\n",
              "      <th>Jul</th>\n",
              "      <td>75</td>\n",
              "      <td>70</td>\n",
              "    </tr>\n",
              "    <tr>\n",
              "      <th>Aug</th>\n",
              "      <td>80</td>\n",
              "      <td>62</td>\n",
              "    </tr>\n",
              "    <tr>\n",
              "      <th>Sep</th>\n",
              "      <td>60</td>\n",
              "      <td>62</td>\n",
              "    </tr>\n",
              "    <tr>\n",
              "      <th>Oct</th>\n",
              "      <td>54</td>\n",
              "      <td>53</td>\n",
              "    </tr>\n",
              "  </tbody>\n",
              "</table>\n",
              "</div>"
            ],
            "text/plain": [
              "       Oranges  Mangoes\n",
              "Jan         45       45\n",
              "Feb         56       56\n",
              "Mar         40       40\n",
              "April       59       59\n",
              "May         60       60\n",
              "June        70       70\n",
              "Jul         75       70\n",
              "Aug         80       62\n",
              "Sep         60       62\n",
              "Oct         54       53"
            ]
          },
          "metadata": {
            "tags": []
          },
          "execution_count": 42
        }
      ]
    },
    {
      "cell_type": "code",
      "metadata": {
        "colab": {
          "base_uri": "https://localhost:8080/"
        },
        "id": "BWjFMlkn-xIx",
        "outputId": "5f351ed5-3e8a-4add-cf10-888949f5226d"
      },
      "source": [
        "#iloc - Index basd accessing\n",
        "data.iloc[0,0:]"
      ],
      "execution_count": 33,
      "outputs": [
        {
          "output_type": "execute_result",
          "data": {
            "text/plain": [
              "Oranges    45\n",
              "Mangoes    45\n",
              "Name: Jan, dtype: int64"
            ]
          },
          "metadata": {
            "tags": []
          },
          "execution_count": 33
        }
      ]
    },
    {
      "cell_type": "code",
      "metadata": {
        "colab": {
          "base_uri": "https://localhost:8080/",
          "height": 359
        },
        "id": "SCn0IK5k-xSn",
        "outputId": "b3995407-0a7d-4585-aeda-dd904d450e54"
      },
      "source": [
        "data.head(10)"
      ],
      "execution_count": 46,
      "outputs": [
        {
          "output_type": "execute_result",
          "data": {
            "text/html": [
              "<div>\n",
              "<style scoped>\n",
              "    .dataframe tbody tr th:only-of-type {\n",
              "        vertical-align: middle;\n",
              "    }\n",
              "\n",
              "    .dataframe tbody tr th {\n",
              "        vertical-align: top;\n",
              "    }\n",
              "\n",
              "    .dataframe thead th {\n",
              "        text-align: right;\n",
              "    }\n",
              "</style>\n",
              "<table border=\"1\" class=\"dataframe\">\n",
              "  <thead>\n",
              "    <tr style=\"text-align: right;\">\n",
              "      <th></th>\n",
              "      <th>Oranges</th>\n",
              "      <th>Mangoes</th>\n",
              "    </tr>\n",
              "  </thead>\n",
              "  <tbody>\n",
              "    <tr>\n",
              "      <th>Jan</th>\n",
              "      <td>45</td>\n",
              "      <td>45</td>\n",
              "    </tr>\n",
              "    <tr>\n",
              "      <th>Feb</th>\n",
              "      <td>56</td>\n",
              "      <td>56</td>\n",
              "    </tr>\n",
              "    <tr>\n",
              "      <th>Mar</th>\n",
              "      <td>40</td>\n",
              "      <td>40</td>\n",
              "    </tr>\n",
              "    <tr>\n",
              "      <th>April</th>\n",
              "      <td>59</td>\n",
              "      <td>59</td>\n",
              "    </tr>\n",
              "    <tr>\n",
              "      <th>May</th>\n",
              "      <td>60</td>\n",
              "      <td>60</td>\n",
              "    </tr>\n",
              "    <tr>\n",
              "      <th>June</th>\n",
              "      <td>70</td>\n",
              "      <td>70</td>\n",
              "    </tr>\n",
              "    <tr>\n",
              "      <th>Jul</th>\n",
              "      <td>75</td>\n",
              "      <td>70</td>\n",
              "    </tr>\n",
              "    <tr>\n",
              "      <th>Aug</th>\n",
              "      <td>80</td>\n",
              "      <td>62</td>\n",
              "    </tr>\n",
              "    <tr>\n",
              "      <th>Sep</th>\n",
              "      <td>60</td>\n",
              "      <td>62</td>\n",
              "    </tr>\n",
              "    <tr>\n",
              "      <th>Oct</th>\n",
              "      <td>54</td>\n",
              "      <td>53</td>\n",
              "    </tr>\n",
              "  </tbody>\n",
              "</table>\n",
              "</div>"
            ],
            "text/plain": [
              "       Oranges  Mangoes\n",
              "Jan         45       45\n",
              "Feb         56       56\n",
              "Mar         40       40\n",
              "April       59       59\n",
              "May         60       60\n",
              "June        70       70\n",
              "Jul         75       70\n",
              "Aug         80       62\n",
              "Sep         60       62\n",
              "Oct         54       53"
            ]
          },
          "metadata": {
            "tags": []
          },
          "execution_count": 46
        }
      ]
    },
    {
      "cell_type": "code",
      "metadata": {
        "colab": {
          "base_uri": "https://localhost:8080/",
          "height": 111
        },
        "id": "6GUszlR9KYKx",
        "outputId": "a10e8f9d-14b2-4b87-b1af-4be84f6383d7"
      },
      "source": [
        "data.tail(2)"
      ],
      "execution_count": 47,
      "outputs": [
        {
          "output_type": "execute_result",
          "data": {
            "text/html": [
              "<div>\n",
              "<style scoped>\n",
              "    .dataframe tbody tr th:only-of-type {\n",
              "        vertical-align: middle;\n",
              "    }\n",
              "\n",
              "    .dataframe tbody tr th {\n",
              "        vertical-align: top;\n",
              "    }\n",
              "\n",
              "    .dataframe thead th {\n",
              "        text-align: right;\n",
              "    }\n",
              "</style>\n",
              "<table border=\"1\" class=\"dataframe\">\n",
              "  <thead>\n",
              "    <tr style=\"text-align: right;\">\n",
              "      <th></th>\n",
              "      <th>Oranges</th>\n",
              "      <th>Mangoes</th>\n",
              "    </tr>\n",
              "  </thead>\n",
              "  <tbody>\n",
              "    <tr>\n",
              "      <th>Sep</th>\n",
              "      <td>60</td>\n",
              "      <td>62</td>\n",
              "    </tr>\n",
              "    <tr>\n",
              "      <th>Oct</th>\n",
              "      <td>54</td>\n",
              "      <td>53</td>\n",
              "    </tr>\n",
              "  </tbody>\n",
              "</table>\n",
              "</div>"
            ],
            "text/plain": [
              "     Oranges  Mangoes\n",
              "Sep       60       62\n",
              "Oct       54       53"
            ]
          },
          "metadata": {
            "tags": []
          },
          "execution_count": 47
        }
      ]
    },
    {
      "cell_type": "code",
      "metadata": {
        "colab": {
          "base_uri": "https://localhost:8080/"
        },
        "id": "PZN-if6MKYSQ",
        "outputId": "1b124a8c-6fdf-4fde-a947-5819d9df9ec6"
      },
      "source": [
        "data.index.tolist()"
      ],
      "execution_count": 49,
      "outputs": [
        {
          "output_type": "execute_result",
          "data": {
            "text/plain": [
              "['Jan', 'Feb', 'Mar', 'April', 'May', 'June', 'Jul', 'Aug', 'Sep', 'Oct']"
            ]
          },
          "metadata": {
            "tags": []
          },
          "execution_count": 49
        }
      ]
    },
    {
      "cell_type": "code",
      "metadata": {
        "colab": {
          "base_uri": "https://localhost:8080/"
        },
        "id": "EZeK8_wRKYV3",
        "outputId": "87e1e1ed-3699-4a75-a769-7b3d3826ab0c"
      },
      "source": [
        "data.values.tolist()"
      ],
      "execution_count": 50,
      "outputs": [
        {
          "output_type": "execute_result",
          "data": {
            "text/plain": [
              "[[45, 45],\n",
              " [56, 56],\n",
              " [40, 40],\n",
              " [59, 59],\n",
              " [60, 60],\n",
              " [70, 70],\n",
              " [75, 70],\n",
              " [80, 62],\n",
              " [60, 62],\n",
              " [54, 53]]"
            ]
          },
          "metadata": {
            "tags": []
          },
          "execution_count": 50
        }
      ]
    },
    {
      "cell_type": "code",
      "metadata": {
        "colab": {
          "base_uri": "https://localhost:8080/"
        },
        "id": "TIxdcrWF-xV_",
        "outputId": "95e0c3f9-87b5-4f24-9aaf-b649dadeef92"
      },
      "source": [
        "data.shape"
      ],
      "execution_count": 51,
      "outputs": [
        {
          "output_type": "execute_result",
          "data": {
            "text/plain": [
              "(10, 2)"
            ]
          },
          "metadata": {
            "tags": []
          },
          "execution_count": 51
        }
      ]
    },
    {
      "cell_type": "code",
      "metadata": {
        "id": "Ncz1fLOhL0-y"
      },
      "source": [
        ""
      ],
      "execution_count": null,
      "outputs": []
    },
    {
      "cell_type": "code",
      "metadata": {
        "id": "KYEQQEmRLhAI"
      },
      "source": [
        "data.loc[:,'New_col'] = None"
      ],
      "execution_count": 55,
      "outputs": []
    },
    {
      "cell_type": "code",
      "metadata": {
        "id": "e-PdwoplLmfY"
      },
      "source": [
        "#Changing the values of a particular row and col\n",
        "data.loc['Mar','Mangoes'] = 70"
      ],
      "execution_count": 63,
      "outputs": []
    },
    {
      "cell_type": "code",
      "metadata": {
        "colab": {
          "base_uri": "https://localhost:8080/",
          "height": 359
        },
        "id": "PymD2KUmMIlt",
        "outputId": "f3f9a675-00e6-4228-f61b-a05dcb1fb8fb"
      },
      "source": [
        "data"
      ],
      "execution_count": 64,
      "outputs": [
        {
          "output_type": "execute_result",
          "data": {
            "text/html": [
              "<div>\n",
              "<style scoped>\n",
              "    .dataframe tbody tr th:only-of-type {\n",
              "        vertical-align: middle;\n",
              "    }\n",
              "\n",
              "    .dataframe tbody tr th {\n",
              "        vertical-align: top;\n",
              "    }\n",
              "\n",
              "    .dataframe thead th {\n",
              "        text-align: right;\n",
              "    }\n",
              "</style>\n",
              "<table border=\"1\" class=\"dataframe\">\n",
              "  <thead>\n",
              "    <tr style=\"text-align: right;\">\n",
              "      <th></th>\n",
              "      <th>Oranges</th>\n",
              "      <th>Mangoes</th>\n",
              "    </tr>\n",
              "  </thead>\n",
              "  <tbody>\n",
              "    <tr>\n",
              "      <th>Jan</th>\n",
              "      <td>45</td>\n",
              "      <td>45</td>\n",
              "    </tr>\n",
              "    <tr>\n",
              "      <th>Feb</th>\n",
              "      <td>56</td>\n",
              "      <td>56</td>\n",
              "    </tr>\n",
              "    <tr>\n",
              "      <th>Mar</th>\n",
              "      <td>40</td>\n",
              "      <td>70</td>\n",
              "    </tr>\n",
              "    <tr>\n",
              "      <th>April</th>\n",
              "      <td>59</td>\n",
              "      <td>59</td>\n",
              "    </tr>\n",
              "    <tr>\n",
              "      <th>May</th>\n",
              "      <td>60</td>\n",
              "      <td>60</td>\n",
              "    </tr>\n",
              "    <tr>\n",
              "      <th>June</th>\n",
              "      <td>70</td>\n",
              "      <td>70</td>\n",
              "    </tr>\n",
              "    <tr>\n",
              "      <th>Jul</th>\n",
              "      <td>75</td>\n",
              "      <td>70</td>\n",
              "    </tr>\n",
              "    <tr>\n",
              "      <th>Aug</th>\n",
              "      <td>80</td>\n",
              "      <td>62</td>\n",
              "    </tr>\n",
              "    <tr>\n",
              "      <th>Sep</th>\n",
              "      <td>60</td>\n",
              "      <td>62</td>\n",
              "    </tr>\n",
              "    <tr>\n",
              "      <th>Oct</th>\n",
              "      <td>54</td>\n",
              "      <td>53</td>\n",
              "    </tr>\n",
              "  </tbody>\n",
              "</table>\n",
              "</div>"
            ],
            "text/plain": [
              "       Oranges  Mangoes\n",
              "Jan         45       45\n",
              "Feb         56       56\n",
              "Mar         40       70\n",
              "April       59       59\n",
              "May         60       60\n",
              "June        70       70\n",
              "Jul         75       70\n",
              "Aug         80       62\n",
              "Sep         60       62\n",
              "Oct         54       53"
            ]
          },
          "metadata": {
            "tags": []
          },
          "execution_count": 64
        }
      ]
    },
    {
      "cell_type": "code",
      "metadata": {
        "colab": {
          "base_uri": "https://localhost:8080/"
        },
        "id": "HhpbyKiTOk_5",
        "outputId": "3d2b08ff-b835-4f12-8614-b48e2b5ee087"
      },
      "source": [
        "!ls"
      ],
      "execution_count": 66,
      "outputs": [
        {
          "output_type": "stream",
          "text": [
            "sample_data\n"
          ],
          "name": "stdout"
        }
      ]
    },
    {
      "cell_type": "code",
      "metadata": {
        "colab": {
          "base_uri": "https://localhost:8080/"
        },
        "id": "0ANBcxkTOoqZ",
        "outputId": "a7dff662-541d-4a94-efba-4ae17c90d4f6"
      },
      "source": [
        "!dir "
      ],
      "execution_count": 67,
      "outputs": [
        {
          "output_type": "stream",
          "text": [
            "sample_data\n"
          ],
          "name": "stdout"
        }
      ]
    },
    {
      "cell_type": "code",
      "metadata": {
        "colab": {
          "base_uri": "https://localhost:8080/"
        },
        "id": "zWsjzKl9-xZB",
        "outputId": "2eca892a-6c9b-4a03-8121-00c3bf77eafd"
      },
      "source": [
        "#methods of reading data into Pandas dataframe! \n",
        "#CSV?\n",
        "#Comma seperated values \n",
        "#reading a csv in colab\n",
        "from google.colab import drive \n",
        "drive.mount('/drive')\n",
        "\n",
        "import pandas as pd\n",
        "df = pd.read_csv(\"/drive/My Drive/Colab Notebooks/data/purchases.csv\") "
      ],
      "execution_count": 68,
      "outputs": [
        {
          "output_type": "stream",
          "text": [
            "Drive already mounted at /drive; to attempt to forcibly remount, call drive.mount(\"/drive\", force_remount=True).\n"
          ],
          "name": "stdout"
        }
      ]
    },
    {
      "cell_type": "code",
      "metadata": {
        "id": "GLQIZvce-xcM"
      },
      "source": [
        "#Jupyter Notebook \n",
        "import pandas as pd \n",
        "df = pd.read_csv(\"C:/Users/ln2/Downloads/purchases.csv\")\n",
        "\n",
        "\n",
        "UnicodeDecodeError: \"utf-8\" cannot decode byted "
      ],
      "execution_count": null,
      "outputs": []
    },
    {
      "cell_type": "code",
      "metadata": {
        "colab": {
          "base_uri": "https://localhost:8080/",
          "height": 173
        },
        "id": "IJ7obNJZ-xfl",
        "outputId": "45f0906b-f084-46a1-dd53-b33e31535788"
      },
      "source": [
        "df = pd.read_csv(\"/drive/My Drive/Colab Notebooks/data/purchases.csv\",index_col =0)\n",
        "df "
      ],
      "execution_count": 70,
      "outputs": [
        {
          "output_type": "execute_result",
          "data": {
            "text/html": [
              "<div>\n",
              "<style scoped>\n",
              "    .dataframe tbody tr th:only-of-type {\n",
              "        vertical-align: middle;\n",
              "    }\n",
              "\n",
              "    .dataframe tbody tr th {\n",
              "        vertical-align: top;\n",
              "    }\n",
              "\n",
              "    .dataframe thead th {\n",
              "        text-align: right;\n",
              "    }\n",
              "</style>\n",
              "<table border=\"1\" class=\"dataframe\">\n",
              "  <thead>\n",
              "    <tr style=\"text-align: right;\">\n",
              "      <th></th>\n",
              "      <th>apples</th>\n",
              "      <th>oranges</th>\n",
              "    </tr>\n",
              "  </thead>\n",
              "  <tbody>\n",
              "    <tr>\n",
              "      <th>June</th>\n",
              "      <td>3</td>\n",
              "      <td>0</td>\n",
              "    </tr>\n",
              "    <tr>\n",
              "      <th>Robert</th>\n",
              "      <td>2</td>\n",
              "      <td>3</td>\n",
              "    </tr>\n",
              "    <tr>\n",
              "      <th>Lily</th>\n",
              "      <td>0</td>\n",
              "      <td>7</td>\n",
              "    </tr>\n",
              "    <tr>\n",
              "      <th>David</th>\n",
              "      <td>1</td>\n",
              "      <td>2</td>\n",
              "    </tr>\n",
              "  </tbody>\n",
              "</table>\n",
              "</div>"
            ],
            "text/plain": [
              "        apples  oranges\n",
              "June         3        0\n",
              "Robert       2        3\n",
              "Lily         0        7\n",
              "David        1        2"
            ]
          },
          "metadata": {
            "tags": []
          },
          "execution_count": 70
        }
      ]
    },
    {
      "cell_type": "code",
      "metadata": {
        "id": "pXNhCir7-xjI"
      },
      "source": [
        "#import data from Json\n",
        "#Json - Java Script Object Notation \n",
        "df = pd.read_json(\"/drive/My Drive/Colab Notebooks/data/purchases.json\")"
      ],
      "execution_count": 71,
      "outputs": []
    },
    {
      "cell_type": "code",
      "metadata": {
        "colab": {
          "base_uri": "https://localhost:8080/",
          "height": 173
        },
        "id": "puEBoA8j-xme",
        "outputId": "f3720e57-65b5-42ba-ddd4-1b2c172d0492"
      },
      "source": [
        "df"
      ],
      "execution_count": 72,
      "outputs": [
        {
          "output_type": "execute_result",
          "data": {
            "text/html": [
              "<div>\n",
              "<style scoped>\n",
              "    .dataframe tbody tr th:only-of-type {\n",
              "        vertical-align: middle;\n",
              "    }\n",
              "\n",
              "    .dataframe tbody tr th {\n",
              "        vertical-align: top;\n",
              "    }\n",
              "\n",
              "    .dataframe thead th {\n",
              "        text-align: right;\n",
              "    }\n",
              "</style>\n",
              "<table border=\"1\" class=\"dataframe\">\n",
              "  <thead>\n",
              "    <tr style=\"text-align: right;\">\n",
              "      <th></th>\n",
              "      <th>apples</th>\n",
              "      <th>oranges</th>\n",
              "    </tr>\n",
              "  </thead>\n",
              "  <tbody>\n",
              "    <tr>\n",
              "      <th>June</th>\n",
              "      <td>3</td>\n",
              "      <td>0</td>\n",
              "    </tr>\n",
              "    <tr>\n",
              "      <th>Robert</th>\n",
              "      <td>2</td>\n",
              "      <td>3</td>\n",
              "    </tr>\n",
              "    <tr>\n",
              "      <th>Lily</th>\n",
              "      <td>0</td>\n",
              "      <td>7</td>\n",
              "    </tr>\n",
              "    <tr>\n",
              "      <th>David</th>\n",
              "      <td>1</td>\n",
              "      <td>2</td>\n",
              "    </tr>\n",
              "  </tbody>\n",
              "</table>\n",
              "</div>"
            ],
            "text/plain": [
              "        apples  oranges\n",
              "June         3        0\n",
              "Robert       2        3\n",
              "Lily         0        7\n",
              "David        1        2"
            ]
          },
          "metadata": {
            "tags": []
          },
          "execution_count": 72
        }
      ]
    },
    {
      "cell_type": "code",
      "metadata": {
        "colab": {
          "base_uri": "https://localhost:8080/"
        },
        "id": "bo9dtf-8-xpr",
        "outputId": "39d9d443-7726-4940-8825-4d0229a46c91"
      },
      "source": [
        "#How to open a database file\n",
        "!pip install pysqlite3"
      ],
      "execution_count": 73,
      "outputs": [
        {
          "output_type": "stream",
          "text": [
            "Collecting pysqlite3\n",
            "\u001b[?25l  Downloading https://files.pythonhosted.org/packages/76/36/c8c574a525868999f7f61bd74bb0065736804d341a913f8207880850e559/pysqlite3-0.4.6.tar.gz (40kB)\n",
            "\r\u001b[K     |████████▏                       | 10kB 8.0MB/s eta 0:00:01\r\u001b[K     |████████████████▎               | 20kB 11.8MB/s eta 0:00:01\r\u001b[K     |████████████████████████▌       | 30kB 14.9MB/s eta 0:00:01\r\u001b[K     |████████████████████████████████| 40kB 3.9MB/s \n",
            "\u001b[?25hBuilding wheels for collected packages: pysqlite3\n",
            "  Building wheel for pysqlite3 (setup.py) ... \u001b[?25l\u001b[?25hdone\n",
            "  Created wheel for pysqlite3: filename=pysqlite3-0.4.6-cp37-cp37m-linux_x86_64.whl size=132579 sha256=f4693f132af74a3b8e19fccea3e3ede93c075cb9cb9318e70f48787bbb021976\n",
            "  Stored in directory: /root/.cache/pip/wheels/52/bd/85/9f859f07cb153f4d7e3ed094b821fb08b85935c2522c3bd9d4\n",
            "Successfully built pysqlite3\n",
            "Installing collected packages: pysqlite3\n",
            "Successfully installed pysqlite3-0.4.6\n"
          ],
          "name": "stdout"
        }
      ]
    },
    {
      "cell_type": "code",
      "metadata": {
        "id": "-rBKdUOJ-xsk"
      },
      "source": [
        "import sqlite3\n",
        "#SQL - Structured Query Language - In Databases to retrieve data from tables! Queries to access data from table\n",
        "con = sqlite3.connect(\"database.db\")"
      ],
      "execution_count": 74,
      "outputs": []
    },
    {
      "cell_type": "code",
      "metadata": {
        "colab": {
          "base_uri": "https://localhost:8080/",
          "height": 204
        },
        "id": "xlo2Lrkb-xv-",
        "outputId": "d828ad75-6756-49a0-8ce9-7751df2778eb"
      },
      "source": [
        "df = pd.read_sql_query(\"SELECT * FROM purchases\",con)\n",
        "df.set_index('index')"
      ],
      "execution_count": 76,
      "outputs": [
        {
          "output_type": "execute_result",
          "data": {
            "text/html": [
              "<div>\n",
              "<style scoped>\n",
              "    .dataframe tbody tr th:only-of-type {\n",
              "        vertical-align: middle;\n",
              "    }\n",
              "\n",
              "    .dataframe tbody tr th {\n",
              "        vertical-align: top;\n",
              "    }\n",
              "\n",
              "    .dataframe thead th {\n",
              "        text-align: right;\n",
              "    }\n",
              "</style>\n",
              "<table border=\"1\" class=\"dataframe\">\n",
              "  <thead>\n",
              "    <tr style=\"text-align: right;\">\n",
              "      <th></th>\n",
              "      <th>apples</th>\n",
              "      <th>oranges</th>\n",
              "    </tr>\n",
              "    <tr>\n",
              "      <th>index</th>\n",
              "      <th></th>\n",
              "      <th></th>\n",
              "    </tr>\n",
              "  </thead>\n",
              "  <tbody>\n",
              "    <tr>\n",
              "      <th>June</th>\n",
              "      <td>3</td>\n",
              "      <td>0</td>\n",
              "    </tr>\n",
              "    <tr>\n",
              "      <th>Robert</th>\n",
              "      <td>2</td>\n",
              "      <td>3</td>\n",
              "    </tr>\n",
              "    <tr>\n",
              "      <th>Lily</th>\n",
              "      <td>0</td>\n",
              "      <td>7</td>\n",
              "    </tr>\n",
              "    <tr>\n",
              "      <th>David</th>\n",
              "      <td>1</td>\n",
              "      <td>2</td>\n",
              "    </tr>\n",
              "  </tbody>\n",
              "</table>\n",
              "</div>"
            ],
            "text/plain": [
              "        apples  oranges\n",
              "index                  \n",
              "June         3        0\n",
              "Robert       2        3\n",
              "Lily         0        7\n",
              "David        1        2"
            ]
          },
          "metadata": {
            "tags": []
          },
          "execution_count": 76
        }
      ]
    },
    {
      "cell_type": "code",
      "metadata": {
        "id": "ukDtvlgGU9qQ"
      },
      "source": [
        "#CSV's from GITHUB \n",
        "movie_df = pd.read_csv(\"https://raw.githubusercontent.com/Laxminarayen/Inceptez_batch_16/main/IMDB-Movie-Data.csv\")"
      ],
      "execution_count": 77,
      "outputs": []
    },
    {
      "cell_type": "code",
      "metadata": {
        "colab": {
          "base_uri": "https://localhost:8080/",
          "height": 323
        },
        "id": "ybXEQRsuVL6X",
        "outputId": "4fbd8291-8ccc-41c0-d31e-6ef1a527a96c"
      },
      "source": [
        "movie_df.head()"
      ],
      "execution_count": 78,
      "outputs": [
        {
          "output_type": "execute_result",
          "data": {
            "text/html": [
              "<div>\n",
              "<style scoped>\n",
              "    .dataframe tbody tr th:only-of-type {\n",
              "        vertical-align: middle;\n",
              "    }\n",
              "\n",
              "    .dataframe tbody tr th {\n",
              "        vertical-align: top;\n",
              "    }\n",
              "\n",
              "    .dataframe thead th {\n",
              "        text-align: right;\n",
              "    }\n",
              "</style>\n",
              "<table border=\"1\" class=\"dataframe\">\n",
              "  <thead>\n",
              "    <tr style=\"text-align: right;\">\n",
              "      <th></th>\n",
              "      <th>Rank</th>\n",
              "      <th>Title</th>\n",
              "      <th>Genre</th>\n",
              "      <th>Description</th>\n",
              "      <th>Director</th>\n",
              "      <th>Actors</th>\n",
              "      <th>Year</th>\n",
              "      <th>Runtime (Minutes)</th>\n",
              "      <th>Rating</th>\n",
              "      <th>Votes</th>\n",
              "      <th>Revenue (Millions)</th>\n",
              "      <th>Metascore</th>\n",
              "    </tr>\n",
              "  </thead>\n",
              "  <tbody>\n",
              "    <tr>\n",
              "      <th>0</th>\n",
              "      <td>1</td>\n",
              "      <td>Guardians of the Galaxy</td>\n",
              "      <td>Action,Adventure,Sci-Fi</td>\n",
              "      <td>A group of intergalactic criminals are forced ...</td>\n",
              "      <td>James Gunn</td>\n",
              "      <td>Chris Pratt, Vin Diesel, Bradley Cooper, Zoe S...</td>\n",
              "      <td>2014</td>\n",
              "      <td>121</td>\n",
              "      <td>8.1</td>\n",
              "      <td>757074</td>\n",
              "      <td>333.13</td>\n",
              "      <td>76.0</td>\n",
              "    </tr>\n",
              "    <tr>\n",
              "      <th>1</th>\n",
              "      <td>2</td>\n",
              "      <td>Prometheus</td>\n",
              "      <td>Adventure,Mystery,Sci-Fi</td>\n",
              "      <td>Following clues to the origin of mankind, a te...</td>\n",
              "      <td>Ridley Scott</td>\n",
              "      <td>Noomi Rapace, Logan Marshall-Green, Michael Fa...</td>\n",
              "      <td>2012</td>\n",
              "      <td>124</td>\n",
              "      <td>7.0</td>\n",
              "      <td>485820</td>\n",
              "      <td>126.46</td>\n",
              "      <td>65.0</td>\n",
              "    </tr>\n",
              "    <tr>\n",
              "      <th>2</th>\n",
              "      <td>3</td>\n",
              "      <td>Split</td>\n",
              "      <td>Horror,Thriller</td>\n",
              "      <td>Three girls are kidnapped by a man with a diag...</td>\n",
              "      <td>M. Night Shyamalan</td>\n",
              "      <td>James McAvoy, Anya Taylor-Joy, Haley Lu Richar...</td>\n",
              "      <td>2016</td>\n",
              "      <td>117</td>\n",
              "      <td>7.3</td>\n",
              "      <td>157606</td>\n",
              "      <td>138.12</td>\n",
              "      <td>62.0</td>\n",
              "    </tr>\n",
              "    <tr>\n",
              "      <th>3</th>\n",
              "      <td>4</td>\n",
              "      <td>Sing</td>\n",
              "      <td>Animation,Comedy,Family</td>\n",
              "      <td>In a city of humanoid animals, a hustling thea...</td>\n",
              "      <td>Christophe Lourdelet</td>\n",
              "      <td>Matthew McConaughey,Reese Witherspoon, Seth Ma...</td>\n",
              "      <td>2016</td>\n",
              "      <td>108</td>\n",
              "      <td>7.2</td>\n",
              "      <td>60545</td>\n",
              "      <td>270.32</td>\n",
              "      <td>59.0</td>\n",
              "    </tr>\n",
              "    <tr>\n",
              "      <th>4</th>\n",
              "      <td>5</td>\n",
              "      <td>Suicide Squad</td>\n",
              "      <td>Action,Adventure,Fantasy</td>\n",
              "      <td>A secret government agency recruits some of th...</td>\n",
              "      <td>David Ayer</td>\n",
              "      <td>Will Smith, Jared Leto, Margot Robbie, Viola D...</td>\n",
              "      <td>2016</td>\n",
              "      <td>123</td>\n",
              "      <td>6.2</td>\n",
              "      <td>393727</td>\n",
              "      <td>325.02</td>\n",
              "      <td>40.0</td>\n",
              "    </tr>\n",
              "  </tbody>\n",
              "</table>\n",
              "</div>"
            ],
            "text/plain": [
              "   Rank                    Title  ... Revenue (Millions) Metascore\n",
              "0     1  Guardians of the Galaxy  ...             333.13      76.0\n",
              "1     2               Prometheus  ...             126.46      65.0\n",
              "2     3                    Split  ...             138.12      62.0\n",
              "3     4                     Sing  ...             270.32      59.0\n",
              "4     5            Suicide Squad  ...             325.02      40.0\n",
              "\n",
              "[5 rows x 12 columns]"
            ]
          },
          "metadata": {
            "tags": []
          },
          "execution_count": 78
        }
      ]
    },
    {
      "cell_type": "code",
      "metadata": {
        "id": "qbcFU997UYmm"
      },
      "source": [
        "1. googleapiclient\n",
        "2. Connection building "
      ],
      "execution_count": null,
      "outputs": []
    },
    {
      "cell_type": "code",
      "metadata": {
        "id": "nf8zqr78-xyf"
      },
      "source": [
        "SQL Alchemy - \n",
        "sqlite3 - \n",
        "JDBC/ODBC - Jayadebapi\n",
        "psycopg2"
      ],
      "execution_count": null,
      "outputs": []
    },
    {
      "cell_type": "code",
      "metadata": {
        "id": "NRRkN2Dm-x1b"
      },
      "source": [
        "!pip install psycopg2\n",
        "con = psycopg2.connect(dbname,username,pass,host,port)"
      ],
      "execution_count": null,
      "outputs": []
    },
    {
      "cell_type": "code",
      "metadata": {
        "id": "nodlGSpc-x4W"
      },
      "source": [
        "#Open an Excel\n",
        "df = pd.read_excel(\"/drive/My Drive/Colab Notebooks/data/Sample.xlsx\")"
      ],
      "execution_count": 81,
      "outputs": []
    },
    {
      "cell_type": "code",
      "metadata": {
        "id": "coQHOEGb8qEH"
      },
      "source": [
        "import pandas as pd \n",
        "pd.read_excel(\"/drive/My Drive/Colab Notebooks/data/Sample.xlsx\",engine = 'openpyxl')\n"
      ],
      "execution_count": 8,
      "outputs": []
    },
    {
      "cell_type": "code",
      "metadata": {
        "id": "Im_07BJYaMFx"
      },
      "source": [
        "#CSV's from GITHUB \n",
        "movie_df = pd.read_csv(\"https://raw.githubusercontent.com/Laxminarayen/Inceptez_batch_16/main/IMDB-Movie-Data.csv\")"
      ],
      "execution_count": null,
      "outputs": []
    },
    {
      "cell_type": "code",
      "metadata": {
        "colab": {
          "base_uri": "https://localhost:8080/",
          "height": 580
        },
        "id": "UXHdbyCwaMIp",
        "outputId": "33f9d53f-ee9d-4c7c-941a-996dd3264412"
      },
      "source": [
        "movie_df.head(10)"
      ],
      "execution_count": 84,
      "outputs": [
        {
          "output_type": "execute_result",
          "data": {
            "text/html": [
              "<div>\n",
              "<style scoped>\n",
              "    .dataframe tbody tr th:only-of-type {\n",
              "        vertical-align: middle;\n",
              "    }\n",
              "\n",
              "    .dataframe tbody tr th {\n",
              "        vertical-align: top;\n",
              "    }\n",
              "\n",
              "    .dataframe thead th {\n",
              "        text-align: right;\n",
              "    }\n",
              "</style>\n",
              "<table border=\"1\" class=\"dataframe\">\n",
              "  <thead>\n",
              "    <tr style=\"text-align: right;\">\n",
              "      <th></th>\n",
              "      <th>Rank</th>\n",
              "      <th>Title</th>\n",
              "      <th>Genre</th>\n",
              "      <th>Description</th>\n",
              "      <th>Director</th>\n",
              "      <th>Actors</th>\n",
              "      <th>Year</th>\n",
              "      <th>Runtime (Minutes)</th>\n",
              "      <th>Rating</th>\n",
              "      <th>Votes</th>\n",
              "      <th>Revenue (Millions)</th>\n",
              "      <th>Metascore</th>\n",
              "    </tr>\n",
              "  </thead>\n",
              "  <tbody>\n",
              "    <tr>\n",
              "      <th>0</th>\n",
              "      <td>1</td>\n",
              "      <td>Guardians of the Galaxy</td>\n",
              "      <td>Action,Adventure,Sci-Fi</td>\n",
              "      <td>A group of intergalactic criminals are forced ...</td>\n",
              "      <td>James Gunn</td>\n",
              "      <td>Chris Pratt, Vin Diesel, Bradley Cooper, Zoe S...</td>\n",
              "      <td>2014</td>\n",
              "      <td>121</td>\n",
              "      <td>8.1</td>\n",
              "      <td>757074</td>\n",
              "      <td>333.13</td>\n",
              "      <td>76.0</td>\n",
              "    </tr>\n",
              "    <tr>\n",
              "      <th>1</th>\n",
              "      <td>2</td>\n",
              "      <td>Prometheus</td>\n",
              "      <td>Adventure,Mystery,Sci-Fi</td>\n",
              "      <td>Following clues to the origin of mankind, a te...</td>\n",
              "      <td>Ridley Scott</td>\n",
              "      <td>Noomi Rapace, Logan Marshall-Green, Michael Fa...</td>\n",
              "      <td>2012</td>\n",
              "      <td>124</td>\n",
              "      <td>7.0</td>\n",
              "      <td>485820</td>\n",
              "      <td>126.46</td>\n",
              "      <td>65.0</td>\n",
              "    </tr>\n",
              "    <tr>\n",
              "      <th>2</th>\n",
              "      <td>3</td>\n",
              "      <td>Split</td>\n",
              "      <td>Horror,Thriller</td>\n",
              "      <td>Three girls are kidnapped by a man with a diag...</td>\n",
              "      <td>M. Night Shyamalan</td>\n",
              "      <td>James McAvoy, Anya Taylor-Joy, Haley Lu Richar...</td>\n",
              "      <td>2016</td>\n",
              "      <td>117</td>\n",
              "      <td>7.3</td>\n",
              "      <td>157606</td>\n",
              "      <td>138.12</td>\n",
              "      <td>62.0</td>\n",
              "    </tr>\n",
              "    <tr>\n",
              "      <th>3</th>\n",
              "      <td>4</td>\n",
              "      <td>Sing</td>\n",
              "      <td>Animation,Comedy,Family</td>\n",
              "      <td>In a city of humanoid animals, a hustling thea...</td>\n",
              "      <td>Christophe Lourdelet</td>\n",
              "      <td>Matthew McConaughey,Reese Witherspoon, Seth Ma...</td>\n",
              "      <td>2016</td>\n",
              "      <td>108</td>\n",
              "      <td>7.2</td>\n",
              "      <td>60545</td>\n",
              "      <td>270.32</td>\n",
              "      <td>59.0</td>\n",
              "    </tr>\n",
              "    <tr>\n",
              "      <th>4</th>\n",
              "      <td>5</td>\n",
              "      <td>Suicide Squad</td>\n",
              "      <td>Action,Adventure,Fantasy</td>\n",
              "      <td>A secret government agency recruits some of th...</td>\n",
              "      <td>David Ayer</td>\n",
              "      <td>Will Smith, Jared Leto, Margot Robbie, Viola D...</td>\n",
              "      <td>2016</td>\n",
              "      <td>123</td>\n",
              "      <td>6.2</td>\n",
              "      <td>393727</td>\n",
              "      <td>325.02</td>\n",
              "      <td>40.0</td>\n",
              "    </tr>\n",
              "    <tr>\n",
              "      <th>5</th>\n",
              "      <td>6</td>\n",
              "      <td>The Great Wall</td>\n",
              "      <td>Action,Adventure,Fantasy</td>\n",
              "      <td>European mercenaries searching for black powde...</td>\n",
              "      <td>Yimou Zhang</td>\n",
              "      <td>Matt Damon, Tian Jing, Willem Dafoe, Andy Lau</td>\n",
              "      <td>2016</td>\n",
              "      <td>103</td>\n",
              "      <td>6.1</td>\n",
              "      <td>56036</td>\n",
              "      <td>45.13</td>\n",
              "      <td>42.0</td>\n",
              "    </tr>\n",
              "    <tr>\n",
              "      <th>6</th>\n",
              "      <td>7</td>\n",
              "      <td>La La Land</td>\n",
              "      <td>Comedy,Drama,Music</td>\n",
              "      <td>A jazz pianist falls for an aspiring actress i...</td>\n",
              "      <td>Damien Chazelle</td>\n",
              "      <td>Ryan Gosling, Emma Stone, Rosemarie DeWitt, J....</td>\n",
              "      <td>2016</td>\n",
              "      <td>128</td>\n",
              "      <td>8.3</td>\n",
              "      <td>258682</td>\n",
              "      <td>151.06</td>\n",
              "      <td>93.0</td>\n",
              "    </tr>\n",
              "    <tr>\n",
              "      <th>7</th>\n",
              "      <td>8</td>\n",
              "      <td>Mindhorn</td>\n",
              "      <td>Comedy</td>\n",
              "      <td>A has-been actor best known for playing the ti...</td>\n",
              "      <td>Sean Foley</td>\n",
              "      <td>Essie Davis, Andrea Riseborough, Julian Barrat...</td>\n",
              "      <td>2016</td>\n",
              "      <td>89</td>\n",
              "      <td>6.4</td>\n",
              "      <td>2490</td>\n",
              "      <td>NaN</td>\n",
              "      <td>71.0</td>\n",
              "    </tr>\n",
              "    <tr>\n",
              "      <th>8</th>\n",
              "      <td>9</td>\n",
              "      <td>The Lost City of Z</td>\n",
              "      <td>Action,Adventure,Biography</td>\n",
              "      <td>A true-life drama, centering on British explor...</td>\n",
              "      <td>James Gray</td>\n",
              "      <td>Charlie Hunnam, Robert Pattinson, Sienna Mille...</td>\n",
              "      <td>2016</td>\n",
              "      <td>141</td>\n",
              "      <td>7.1</td>\n",
              "      <td>7188</td>\n",
              "      <td>8.01</td>\n",
              "      <td>78.0</td>\n",
              "    </tr>\n",
              "    <tr>\n",
              "      <th>9</th>\n",
              "      <td>10</td>\n",
              "      <td>Passengers</td>\n",
              "      <td>Adventure,Drama,Romance</td>\n",
              "      <td>A spacecraft traveling to a distant colony pla...</td>\n",
              "      <td>Morten Tyldum</td>\n",
              "      <td>Jennifer Lawrence, Chris Pratt, Michael Sheen,...</td>\n",
              "      <td>2016</td>\n",
              "      <td>116</td>\n",
              "      <td>7.0</td>\n",
              "      <td>192177</td>\n",
              "      <td>100.01</td>\n",
              "      <td>41.0</td>\n",
              "    </tr>\n",
              "  </tbody>\n",
              "</table>\n",
              "</div>"
            ],
            "text/plain": [
              "   Rank                    Title  ... Revenue (Millions) Metascore\n",
              "0     1  Guardians of the Galaxy  ...             333.13      76.0\n",
              "1     2               Prometheus  ...             126.46      65.0\n",
              "2     3                    Split  ...             138.12      62.0\n",
              "3     4                     Sing  ...             270.32      59.0\n",
              "4     5            Suicide Squad  ...             325.02      40.0\n",
              "5     6           The Great Wall  ...              45.13      42.0\n",
              "6     7               La La Land  ...             151.06      93.0\n",
              "7     8                 Mindhorn  ...                NaN      71.0\n",
              "8     9       The Lost City of Z  ...               8.01      78.0\n",
              "9    10               Passengers  ...             100.01      41.0\n",
              "\n",
              "[10 rows x 12 columns]"
            ]
          },
          "metadata": {
            "tags": []
          },
          "execution_count": 84
        }
      ]
    },
    {
      "cell_type": "code",
      "metadata": {
        "colab": {
          "base_uri": "https://localhost:8080/",
          "height": 114
        },
        "id": "65o-2Pb3-UCk",
        "outputId": "460705f3-9119-4c13-c4a8-f2d1dfa8570a"
      },
      "source": [
        "movie_df.loc[(movie_df['Rank'] == 4) & (movie_df['Title'] == 'Sing')]"
      ],
      "execution_count": 101,
      "outputs": [
        {
          "output_type": "execute_result",
          "data": {
            "text/html": [
              "<div>\n",
              "<style scoped>\n",
              "    .dataframe tbody tr th:only-of-type {\n",
              "        vertical-align: middle;\n",
              "    }\n",
              "\n",
              "    .dataframe tbody tr th {\n",
              "        vertical-align: top;\n",
              "    }\n",
              "\n",
              "    .dataframe thead th {\n",
              "        text-align: right;\n",
              "    }\n",
              "</style>\n",
              "<table border=\"1\" class=\"dataframe\">\n",
              "  <thead>\n",
              "    <tr style=\"text-align: right;\">\n",
              "      <th></th>\n",
              "      <th>Rank</th>\n",
              "      <th>Title</th>\n",
              "      <th>Genre</th>\n",
              "      <th>Description</th>\n",
              "      <th>Director</th>\n",
              "      <th>Actors</th>\n",
              "      <th>Year</th>\n",
              "      <th>Runtime (Minutes)</th>\n",
              "      <th>Rating</th>\n",
              "      <th>Votes</th>\n",
              "      <th>Revenue (Millions)</th>\n",
              "      <th>Metascore</th>\n",
              "    </tr>\n",
              "  </thead>\n",
              "  <tbody>\n",
              "    <tr>\n",
              "      <th>3</th>\n",
              "      <td>4</td>\n",
              "      <td>Sing</td>\n",
              "      <td>Animation,Comedy,Family</td>\n",
              "      <td>In a city of humanoid animals, a hustling thea...</td>\n",
              "      <td>Christophe Lourdelet</td>\n",
              "      <td>Matthew McConaughey,Reese Witherspoon, Seth Ma...</td>\n",
              "      <td>2016</td>\n",
              "      <td>108</td>\n",
              "      <td>7.2</td>\n",
              "      <td>60545</td>\n",
              "      <td>270.32</td>\n",
              "      <td>59.0</td>\n",
              "    </tr>\n",
              "  </tbody>\n",
              "</table>\n",
              "</div>"
            ],
            "text/plain": [
              "   Rank Title                    Genre  ...  Votes Revenue (Millions) Metascore\n",
              "3     4  Sing  Animation,Comedy,Family  ...  60545             270.32      59.0\n",
              "\n",
              "[1 rows x 12 columns]"
            ]
          },
          "metadata": {
            "tags": []
          },
          "execution_count": 101
        }
      ]
    },
    {
      "cell_type": "markdown",
      "metadata": {
        "id": "c9nB1LFDbSQi"
      },
      "source": [
        ""
      ]
    },
    {
      "cell_type": "code",
      "metadata": {
        "colab": {
          "base_uri": "https://localhost:8080/",
          "height": 354
        },
        "id": "oA6Z99J9bPh2",
        "outputId": "496ba71f-1726-4fb1-fd82-acc4a89b06d0"
      },
      "source": [
        "movie_df.loc[movie_df['Rank'].isin([2,3,4,5,6,7])]"
      ],
      "execution_count": 99,
      "outputs": [
        {
          "output_type": "execute_result",
          "data": {
            "text/html": [
              "<div>\n",
              "<style scoped>\n",
              "    .dataframe tbody tr th:only-of-type {\n",
              "        vertical-align: middle;\n",
              "    }\n",
              "\n",
              "    .dataframe tbody tr th {\n",
              "        vertical-align: top;\n",
              "    }\n",
              "\n",
              "    .dataframe thead th {\n",
              "        text-align: right;\n",
              "    }\n",
              "</style>\n",
              "<table border=\"1\" class=\"dataframe\">\n",
              "  <thead>\n",
              "    <tr style=\"text-align: right;\">\n",
              "      <th></th>\n",
              "      <th>Rank</th>\n",
              "      <th>Title</th>\n",
              "      <th>Genre</th>\n",
              "      <th>Description</th>\n",
              "      <th>Director</th>\n",
              "      <th>Actors</th>\n",
              "      <th>Year</th>\n",
              "      <th>Runtime (Minutes)</th>\n",
              "      <th>Rating</th>\n",
              "      <th>Votes</th>\n",
              "      <th>Revenue (Millions)</th>\n",
              "      <th>Metascore</th>\n",
              "    </tr>\n",
              "  </thead>\n",
              "  <tbody>\n",
              "    <tr>\n",
              "      <th>1</th>\n",
              "      <td>2</td>\n",
              "      <td>Prometheus</td>\n",
              "      <td>Adventure,Mystery,Sci-Fi</td>\n",
              "      <td>Following clues to the origin of mankind, a te...</td>\n",
              "      <td>Ridley Scott</td>\n",
              "      <td>Noomi Rapace, Logan Marshall-Green, Michael Fa...</td>\n",
              "      <td>2012</td>\n",
              "      <td>124</td>\n",
              "      <td>7.0</td>\n",
              "      <td>485820</td>\n",
              "      <td>126.46</td>\n",
              "      <td>65.0</td>\n",
              "    </tr>\n",
              "    <tr>\n",
              "      <th>2</th>\n",
              "      <td>3</td>\n",
              "      <td>Split</td>\n",
              "      <td>Horror,Thriller</td>\n",
              "      <td>Three girls are kidnapped by a man with a diag...</td>\n",
              "      <td>M. Night Shyamalan</td>\n",
              "      <td>James McAvoy, Anya Taylor-Joy, Haley Lu Richar...</td>\n",
              "      <td>2016</td>\n",
              "      <td>117</td>\n",
              "      <td>7.3</td>\n",
              "      <td>157606</td>\n",
              "      <td>138.12</td>\n",
              "      <td>62.0</td>\n",
              "    </tr>\n",
              "    <tr>\n",
              "      <th>3</th>\n",
              "      <td>4</td>\n",
              "      <td>Sing</td>\n",
              "      <td>Animation,Comedy,Family</td>\n",
              "      <td>In a city of humanoid animals, a hustling thea...</td>\n",
              "      <td>Christophe Lourdelet</td>\n",
              "      <td>Matthew McConaughey,Reese Witherspoon, Seth Ma...</td>\n",
              "      <td>2016</td>\n",
              "      <td>108</td>\n",
              "      <td>7.2</td>\n",
              "      <td>60545</td>\n",
              "      <td>270.32</td>\n",
              "      <td>59.0</td>\n",
              "    </tr>\n",
              "    <tr>\n",
              "      <th>4</th>\n",
              "      <td>5</td>\n",
              "      <td>Suicide Squad</td>\n",
              "      <td>Action,Adventure,Fantasy</td>\n",
              "      <td>A secret government agency recruits some of th...</td>\n",
              "      <td>David Ayer</td>\n",
              "      <td>Will Smith, Jared Leto, Margot Robbie, Viola D...</td>\n",
              "      <td>2016</td>\n",
              "      <td>123</td>\n",
              "      <td>6.2</td>\n",
              "      <td>393727</td>\n",
              "      <td>325.02</td>\n",
              "      <td>40.0</td>\n",
              "    </tr>\n",
              "    <tr>\n",
              "      <th>5</th>\n",
              "      <td>6</td>\n",
              "      <td>The Great Wall</td>\n",
              "      <td>Action,Adventure,Fantasy</td>\n",
              "      <td>European mercenaries searching for black powde...</td>\n",
              "      <td>Yimou Zhang</td>\n",
              "      <td>Matt Damon, Tian Jing, Willem Dafoe, Andy Lau</td>\n",
              "      <td>2016</td>\n",
              "      <td>103</td>\n",
              "      <td>6.1</td>\n",
              "      <td>56036</td>\n",
              "      <td>45.13</td>\n",
              "      <td>42.0</td>\n",
              "    </tr>\n",
              "    <tr>\n",
              "      <th>6</th>\n",
              "      <td>7</td>\n",
              "      <td>La La Land</td>\n",
              "      <td>Comedy,Drama,Music</td>\n",
              "      <td>A jazz pianist falls for an aspiring actress i...</td>\n",
              "      <td>Damien Chazelle</td>\n",
              "      <td>Ryan Gosling, Emma Stone, Rosemarie DeWitt, J....</td>\n",
              "      <td>2016</td>\n",
              "      <td>128</td>\n",
              "      <td>8.3</td>\n",
              "      <td>258682</td>\n",
              "      <td>151.06</td>\n",
              "      <td>93.0</td>\n",
              "    </tr>\n",
              "  </tbody>\n",
              "</table>\n",
              "</div>"
            ],
            "text/plain": [
              "   Rank           Title  ... Revenue (Millions) Metascore\n",
              "1     2      Prometheus  ...             126.46      65.0\n",
              "2     3           Split  ...             138.12      62.0\n",
              "3     4            Sing  ...             270.32      59.0\n",
              "4     5   Suicide Squad  ...             325.02      40.0\n",
              "5     6  The Great Wall  ...              45.13      42.0\n",
              "6     7      La La Land  ...             151.06      93.0\n",
              "\n",
              "[6 rows x 12 columns]"
            ]
          },
          "metadata": {
            "tags": []
          },
          "execution_count": 99
        }
      ]
    },
    {
      "cell_type": "code",
      "metadata": {
        "colab": {
          "base_uri": "https://localhost:8080/"
        },
        "id": "8Ue2aRuccGFE",
        "outputId": "8375f7a1-06d8-46d5-b93e-1e9deee466ea"
      },
      "source": [
        "movie_df.info()"
      ],
      "execution_count": 102,
      "outputs": [
        {
          "output_type": "stream",
          "text": [
            "<class 'pandas.core.frame.DataFrame'>\n",
            "RangeIndex: 1000 entries, 0 to 999\n",
            "Data columns (total 12 columns):\n",
            " #   Column              Non-Null Count  Dtype  \n",
            "---  ------              --------------  -----  \n",
            " 0   Rank                1000 non-null   int64  \n",
            " 1   Title               1000 non-null   object \n",
            " 2   Genre               1000 non-null   object \n",
            " 3   Description         1000 non-null   object \n",
            " 4   Director            1000 non-null   object \n",
            " 5   Actors              1000 non-null   object \n",
            " 6   Year                1000 non-null   int64  \n",
            " 7   Runtime (Minutes)   1000 non-null   int64  \n",
            " 8   Rating              1000 non-null   float64\n",
            " 9   Votes               1000 non-null   int64  \n",
            " 10  Revenue (Millions)  872 non-null    float64\n",
            " 11  Metascore           936 non-null    float64\n",
            "dtypes: float64(3), int64(4), object(5)\n",
            "memory usage: 93.9+ KB\n"
          ],
          "name": "stdout"
        }
      ]
    },
    {
      "cell_type": "code",
      "metadata": {
        "colab": {
          "base_uri": "https://localhost:8080/"
        },
        "id": "u5TC6KBYcGIP",
        "outputId": "e2a69284-99ed-4faf-8fae-abb43485faab"
      },
      "source": [
        "movie_df.shape[0]"
      ],
      "execution_count": 106,
      "outputs": [
        {
          "output_type": "execute_result",
          "data": {
            "text/plain": [
              "1000"
            ]
          },
          "metadata": {
            "tags": []
          },
          "execution_count": 106
        }
      ]
    },
    {
      "cell_type": "code",
      "metadata": {
        "colab": {
          "base_uri": "https://localhost:8080/"
        },
        "id": "dtr4y_QwcGMV",
        "outputId": "03b2b154-389c-405f-df77-6659df1ebae4"
      },
      "source": [
        "len(movie_df)"
      ],
      "execution_count": 107,
      "outputs": [
        {
          "output_type": "execute_result",
          "data": {
            "text/plain": [
              "1000"
            ]
          },
          "metadata": {
            "tags": []
          },
          "execution_count": 107
        }
      ]
    },
    {
      "cell_type": "code",
      "metadata": {
        "colab": {
          "base_uri": "https://localhost:8080/"
        },
        "id": "_1P4MoJxdc9I",
        "outputId": "ad98103a-0e5a-435b-8055-4dfd85b7720f"
      },
      "source": [
        "movie_df.isna().sum()"
      ],
      "execution_count": 112,
      "outputs": [
        {
          "output_type": "execute_result",
          "data": {
            "text/plain": [
              "Rank                    0\n",
              "Title                   0\n",
              "Genre                   0\n",
              "Description             0\n",
              "Director                0\n",
              "Actors                  0\n",
              "Year                    0\n",
              "Runtime (Minutes)       0\n",
              "Rating                  0\n",
              "Votes                   0\n",
              "Revenue (Millions)    128\n",
              "Metascore              64\n",
              "dtype: int64"
            ]
          },
          "metadata": {
            "tags": []
          },
          "execution_count": 112
        }
      ]
    },
    {
      "cell_type": "code",
      "metadata": {
        "id": "49wBUnxSe1rC"
      },
      "source": [
        "for i in movie_df:\n",
        "  print(i)"
      ],
      "execution_count": null,
      "outputs": []
    },
    {
      "cell_type": "code",
      "metadata": {
        "id": "XSXUFx1SddA2"
      },
      "source": [
        "for i in movie_df:\n",
        "  print(i)"
      ],
      "execution_count": null,
      "outputs": []
    },
    {
      "cell_type": "code",
      "metadata": {
        "id": "Nk8-aHq2ddEE"
      },
      "source": [
        "for i in movie_df['Abdul']:\n",
        "  print(i)\n",
        "'''\n",
        "---------------------------------------------------------------------------\n",
        "KeyError                                  Traceback (most recent call last)\n",
        "/usr/local/lib/python3.7/dist-packages/pandas/core/indexes/base.py in get_loc(self, key, method, tolerance)\n",
        "   2897             try:\n",
        "-> 2898                 return self._engine.get_loc(casted_key)\n",
        "   2899             except KeyError as err:\n",
        "\n",
        "pandas/_libs/index.pyx in pandas._libs.index.IndexEngine.get_loc()\n",
        "\n",
        "pandas/_libs/index.pyx in pandas._libs.index.IndexEngine.get_loc()\n",
        "\n",
        "pandas/_libs/hashtable_class_helper.pxi in pandas._libs.hashtable.PyObjectHashTable.get_item()\n",
        "\n",
        "pandas/_libs/hashtable_class_helper.pxi in pandas._libs.hashtable.PyObjectHashTable.get_item()\n",
        "\n",
        "KeyError: 'Abdul'\n",
        "\n",
        "The above exception was the direct cause of the following exception:\n",
        "\n",
        "KeyError                                  Traceback (most recent call last)\n",
        "2 frames\n",
        "/usr/local/lib/python3.7/dist-packages/pandas/core/indexes/base.py in get_loc(self, key, method, tolerance)\n",
        "   2898                 return self._engine.get_loc(casted_key)\n",
        "   2899             except KeyError as err:\n",
        "-> 2900                 raise KeyError(key) from err\n",
        "   2901 \n",
        "   2902         if tolerance is not None:\n",
        "\n",
        "KeyError: 'Abdul'\n",
        "'''"
      ],
      "execution_count": null,
      "outputs": []
    },
    {
      "cell_type": "code",
      "metadata": {
        "colab": {
          "base_uri": "https://localhost:8080/"
        },
        "id": "9A1p2O89ddHB",
        "outputId": "5ae700d6-7c97-4697-d9e7-f4adde4f560a"
      },
      "source": [
        "movie_df.columns.tolist()"
      ],
      "execution_count": 122,
      "outputs": [
        {
          "output_type": "execute_result",
          "data": {
            "text/plain": [
              "['Rank',\n",
              " 'Title',\n",
              " 'Genre',\n",
              " 'Description',\n",
              " 'Director',\n",
              " 'Actors',\n",
              " 'Year',\n",
              " 'Runtime (Minutes)',\n",
              " 'Rating',\n",
              " 'Votes',\n",
              " 'Revenue (Millions)',\n",
              " 'Metascore']"
            ]
          },
          "metadata": {
            "tags": []
          },
          "execution_count": 122
        }
      ]
    },
    {
      "cell_type": "code",
      "metadata": {
        "id": "u1FfbTW1ddKS"
      },
      "source": [
        "movie_df1.columns=movie_df.columns.str.lower()"
      ],
      "execution_count": 123,
      "outputs": []
    },
    {
      "cell_type": "code",
      "metadata": {
        "colab": {
          "base_uri": "https://localhost:8080/"
        },
        "id": "YjtbzjnKcGPr",
        "outputId": "fdd3e6c6-6e79-429c-ddfb-767520f478e7"
      },
      "source": [
        "movie_df1"
      ],
      "execution_count": 124,
      "outputs": [
        {
          "output_type": "execute_result",
          "data": {
            "text/plain": [
              "Index(['rank', 'title', 'genre', 'description', 'director', 'actors', 'year',\n",
              "       'runtime (minutes)', 'rating', 'votes', 'revenue (millions)',\n",
              "       'metascore'],\n",
              "      dtype='object')"
            ]
          },
          "metadata": {
            "tags": []
          },
          "execution_count": 124
        }
      ]
    },
    {
      "cell_type": "code",
      "metadata": {
        "id": "o4jZ-rGlg5Hb"
      },
      "source": [
        "movie_df.columns=movie_df.columns.str.lower()"
      ],
      "execution_count": 125,
      "outputs": []
    },
    {
      "cell_type": "code",
      "metadata": {
        "colab": {
          "base_uri": "https://localhost:8080/",
          "height": 640
        },
        "id": "aC-Cer4dhJ9y",
        "outputId": "77449e0c-65a7-4f5e-c964-5d591a4f5849"
      },
      "source": [
        "movie_df"
      ],
      "execution_count": 126,
      "outputs": [
        {
          "output_type": "execute_result",
          "data": {
            "text/html": [
              "<div>\n",
              "<style scoped>\n",
              "    .dataframe tbody tr th:only-of-type {\n",
              "        vertical-align: middle;\n",
              "    }\n",
              "\n",
              "    .dataframe tbody tr th {\n",
              "        vertical-align: top;\n",
              "    }\n",
              "\n",
              "    .dataframe thead th {\n",
              "        text-align: right;\n",
              "    }\n",
              "</style>\n",
              "<table border=\"1\" class=\"dataframe\">\n",
              "  <thead>\n",
              "    <tr style=\"text-align: right;\">\n",
              "      <th></th>\n",
              "      <th>rank</th>\n",
              "      <th>title</th>\n",
              "      <th>genre</th>\n",
              "      <th>description</th>\n",
              "      <th>director</th>\n",
              "      <th>actors</th>\n",
              "      <th>year</th>\n",
              "      <th>runtime (minutes)</th>\n",
              "      <th>rating</th>\n",
              "      <th>votes</th>\n",
              "      <th>revenue (millions)</th>\n",
              "      <th>metascore</th>\n",
              "    </tr>\n",
              "  </thead>\n",
              "  <tbody>\n",
              "    <tr>\n",
              "      <th>0</th>\n",
              "      <td>1</td>\n",
              "      <td>Guardians of the Galaxy</td>\n",
              "      <td>Action,Adventure,Sci-Fi</td>\n",
              "      <td>A group of intergalactic criminals are forced ...</td>\n",
              "      <td>James Gunn</td>\n",
              "      <td>Chris Pratt, Vin Diesel, Bradley Cooper, Zoe S...</td>\n",
              "      <td>2014</td>\n",
              "      <td>121</td>\n",
              "      <td>8.1</td>\n",
              "      <td>757074</td>\n",
              "      <td>333.13</td>\n",
              "      <td>76.0</td>\n",
              "    </tr>\n",
              "    <tr>\n",
              "      <th>1</th>\n",
              "      <td>2</td>\n",
              "      <td>Prometheus</td>\n",
              "      <td>Adventure,Mystery,Sci-Fi</td>\n",
              "      <td>Following clues to the origin of mankind, a te...</td>\n",
              "      <td>Ridley Scott</td>\n",
              "      <td>Noomi Rapace, Logan Marshall-Green, Michael Fa...</td>\n",
              "      <td>2012</td>\n",
              "      <td>124</td>\n",
              "      <td>7.0</td>\n",
              "      <td>485820</td>\n",
              "      <td>126.46</td>\n",
              "      <td>65.0</td>\n",
              "    </tr>\n",
              "    <tr>\n",
              "      <th>2</th>\n",
              "      <td>3</td>\n",
              "      <td>Split</td>\n",
              "      <td>Horror,Thriller</td>\n",
              "      <td>Three girls are kidnapped by a man with a diag...</td>\n",
              "      <td>M. Night Shyamalan</td>\n",
              "      <td>James McAvoy, Anya Taylor-Joy, Haley Lu Richar...</td>\n",
              "      <td>2016</td>\n",
              "      <td>117</td>\n",
              "      <td>7.3</td>\n",
              "      <td>157606</td>\n",
              "      <td>138.12</td>\n",
              "      <td>62.0</td>\n",
              "    </tr>\n",
              "    <tr>\n",
              "      <th>3</th>\n",
              "      <td>4</td>\n",
              "      <td>Sing</td>\n",
              "      <td>Animation,Comedy,Family</td>\n",
              "      <td>In a city of humanoid animals, a hustling thea...</td>\n",
              "      <td>Christophe Lourdelet</td>\n",
              "      <td>Matthew McConaughey,Reese Witherspoon, Seth Ma...</td>\n",
              "      <td>2016</td>\n",
              "      <td>108</td>\n",
              "      <td>7.2</td>\n",
              "      <td>60545</td>\n",
              "      <td>270.32</td>\n",
              "      <td>59.0</td>\n",
              "    </tr>\n",
              "    <tr>\n",
              "      <th>4</th>\n",
              "      <td>5</td>\n",
              "      <td>Suicide Squad</td>\n",
              "      <td>Action,Adventure,Fantasy</td>\n",
              "      <td>A secret government agency recruits some of th...</td>\n",
              "      <td>David Ayer</td>\n",
              "      <td>Will Smith, Jared Leto, Margot Robbie, Viola D...</td>\n",
              "      <td>2016</td>\n",
              "      <td>123</td>\n",
              "      <td>6.2</td>\n",
              "      <td>393727</td>\n",
              "      <td>325.02</td>\n",
              "      <td>40.0</td>\n",
              "    </tr>\n",
              "    <tr>\n",
              "      <th>...</th>\n",
              "      <td>...</td>\n",
              "      <td>...</td>\n",
              "      <td>...</td>\n",
              "      <td>...</td>\n",
              "      <td>...</td>\n",
              "      <td>...</td>\n",
              "      <td>...</td>\n",
              "      <td>...</td>\n",
              "      <td>...</td>\n",
              "      <td>...</td>\n",
              "      <td>...</td>\n",
              "      <td>...</td>\n",
              "    </tr>\n",
              "    <tr>\n",
              "      <th>995</th>\n",
              "      <td>996</td>\n",
              "      <td>Secret in Their Eyes</td>\n",
              "      <td>Crime,Drama,Mystery</td>\n",
              "      <td>A tight-knit team of rising investigators, alo...</td>\n",
              "      <td>Billy Ray</td>\n",
              "      <td>Chiwetel Ejiofor, Nicole Kidman, Julia Roberts...</td>\n",
              "      <td>2015</td>\n",
              "      <td>111</td>\n",
              "      <td>6.2</td>\n",
              "      <td>27585</td>\n",
              "      <td>NaN</td>\n",
              "      <td>45.0</td>\n",
              "    </tr>\n",
              "    <tr>\n",
              "      <th>996</th>\n",
              "      <td>997</td>\n",
              "      <td>Hostel: Part II</td>\n",
              "      <td>Horror</td>\n",
              "      <td>Three American college students studying abroa...</td>\n",
              "      <td>Eli Roth</td>\n",
              "      <td>Lauren German, Heather Matarazzo, Bijou Philli...</td>\n",
              "      <td>2007</td>\n",
              "      <td>94</td>\n",
              "      <td>5.5</td>\n",
              "      <td>73152</td>\n",
              "      <td>17.54</td>\n",
              "      <td>46.0</td>\n",
              "    </tr>\n",
              "    <tr>\n",
              "      <th>997</th>\n",
              "      <td>998</td>\n",
              "      <td>Step Up 2: The Streets</td>\n",
              "      <td>Drama,Music,Romance</td>\n",
              "      <td>Romantic sparks occur between two dance studen...</td>\n",
              "      <td>Jon M. Chu</td>\n",
              "      <td>Robert Hoffman, Briana Evigan, Cassie Ventura,...</td>\n",
              "      <td>2008</td>\n",
              "      <td>98</td>\n",
              "      <td>6.2</td>\n",
              "      <td>70699</td>\n",
              "      <td>58.01</td>\n",
              "      <td>50.0</td>\n",
              "    </tr>\n",
              "    <tr>\n",
              "      <th>998</th>\n",
              "      <td>999</td>\n",
              "      <td>Search Party</td>\n",
              "      <td>Adventure,Comedy</td>\n",
              "      <td>A pair of friends embark on a mission to reuni...</td>\n",
              "      <td>Scot Armstrong</td>\n",
              "      <td>Adam Pally, T.J. Miller, Thomas Middleditch,Sh...</td>\n",
              "      <td>2014</td>\n",
              "      <td>93</td>\n",
              "      <td>5.6</td>\n",
              "      <td>4881</td>\n",
              "      <td>NaN</td>\n",
              "      <td>22.0</td>\n",
              "    </tr>\n",
              "    <tr>\n",
              "      <th>999</th>\n",
              "      <td>1000</td>\n",
              "      <td>Nine Lives</td>\n",
              "      <td>Comedy,Family,Fantasy</td>\n",
              "      <td>A stuffy businessman finds himself trapped ins...</td>\n",
              "      <td>Barry Sonnenfeld</td>\n",
              "      <td>Kevin Spacey, Jennifer Garner, Robbie Amell,Ch...</td>\n",
              "      <td>2016</td>\n",
              "      <td>87</td>\n",
              "      <td>5.3</td>\n",
              "      <td>12435</td>\n",
              "      <td>19.64</td>\n",
              "      <td>11.0</td>\n",
              "    </tr>\n",
              "  </tbody>\n",
              "</table>\n",
              "<p>1000 rows × 12 columns</p>\n",
              "</div>"
            ],
            "text/plain": [
              "     rank                    title  ... revenue (millions) metascore\n",
              "0       1  Guardians of the Galaxy  ...             333.13      76.0\n",
              "1       2               Prometheus  ...             126.46      65.0\n",
              "2       3                    Split  ...             138.12      62.0\n",
              "3       4                     Sing  ...             270.32      59.0\n",
              "4       5            Suicide Squad  ...             325.02      40.0\n",
              "..    ...                      ...  ...                ...       ...\n",
              "995   996     Secret in Their Eyes  ...                NaN      45.0\n",
              "996   997          Hostel: Part II  ...              17.54      46.0\n",
              "997   998   Step Up 2: The Streets  ...              58.01      50.0\n",
              "998   999             Search Party  ...                NaN      22.0\n",
              "999  1000               Nine Lives  ...              19.64      11.0\n",
              "\n",
              "[1000 rows x 12 columns]"
            ]
          },
          "metadata": {
            "tags": []
          },
          "execution_count": 126
        }
      ]
    },
    {
      "cell_type": "code",
      "metadata": {
        "id": "AjhjEi8Oha7x"
      },
      "source": [
        "sqlalchemy "
      ],
      "execution_count": null,
      "outputs": []
    }
  ]
}